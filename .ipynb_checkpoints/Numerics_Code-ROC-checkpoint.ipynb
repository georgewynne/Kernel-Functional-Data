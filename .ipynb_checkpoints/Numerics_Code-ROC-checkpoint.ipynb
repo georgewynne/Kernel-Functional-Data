{
 "cells": [
  {
   "cell_type": "code",
   "execution_count": 51,
   "metadata": {},
   "outputs": [],
   "source": [
    "# All of these (except TQDM) are standard imports and are included for example in Anaconda\n",
    "# TQDM is a package for progress bars and can be easily installed, see https://pypi.org/project/tqdm/\n",
    "import numpy as np\n",
    "import matplotlib.pyplot as plt\n",
    "from sklearn.metrics.pairwise import rbf_kernel\n",
    "from sklearn.metrics import pairwise_distances\n",
    "from sklearn.metrics import pairwise_kernels\n",
    "import scipy.linalg as lin\n",
    "from scipy.special import zeta\n",
    "from sklearn.decomposition import PCA\n",
    "import pandas as pd\n",
    "import sklearn.gaussian_process as gp\n",
    "from scipy.stats import t\n",
    "from scipy.stats import percentileofscore \n",
    "from tqdm import tqdm_notebook as tqdm\n",
    "import os\n",
    "import pandas as pd\n",
    "import time\n",
    "import random\n",
    "from matplotlib import image"
   ]
  },
  {
   "cell_type": "markdown",
   "metadata": {},
   "source": [
    "Stuff to move into toher notebook:\n",
    "- New CEXP_2D code\n",
    "- New code comments for CEXP_2D\n",
    "- Code for ROC plots"
   ]
  },
  {
   "cell_type": "markdown",
   "metadata": {},
   "source": [
    "# 1. Norm Functions and T Maps"
   ]
  },
  {
   "cell_type": "markdown",
   "metadata": {},
   "source": [
    "### The next two cells contain the code for the five different settings used in the numerical tests: ID, CEXP, FPCA, POLY and SQR. \n",
    "\n",
    "### To see how to combine these to recreate the numerical results see comments in the cells which perform the tests."
   ]
  },
  {
   "cell_type": "code",
   "execution_count": 52,
   "metadata": {},
   "outputs": [],
   "source": [
    "def K_ID(X,Y,gamma=1):\n",
    "    \"\"\"\n",
    "    Forms the kernel matrix K for the two sample test using the SE-T kernel with bandwidth gamma\n",
    "    where T is the identity operator\n",
    "    \n",
    "    Parameters:\n",
    "    X - (n_samples,n_obs) array of samples from the first distribution \n",
    "    Y - (n_samples,n_obs) array of samples from the second distribution \n",
    "    gamma - bandwidthlengthscale for the kernel, if -1 then median heuristic is used to pick gamma\n",
    "    \n",
    "    Returns:\n",
    "    K - matrix formed from the kernel values of all pairs of samples from the two distributions\n",
    "    \"\"\"\n",
    "    n_obs = X.shape[1]\n",
    "    XY = np.vstack((X,Y))\n",
    "    dist_mat = (1/np.sqrt(n_obs))*pairwise_distances(XY, metric='euclidean')\n",
    "    if gamma == -1:\n",
    "        gamma = np.median(dist_mat[dist_mat > 0])\n",
    "    K = np.exp(-0.5*(1/gamma**2)*(dist_mat**2))\n",
    "    return K\n",
    "\n",
    "def FPCA(X,n_comp = 0.95):\n",
    "    \"\"\"\n",
    "    Computes principal components of given data up to a specified explained variance level\n",
    "    \n",
    "    Parameters:\n",
    "    X - (n_samples,n_obs) array of function values\n",
    "    n_comp - number of principal components to compute. If in (0,1) then it is the explained variance level\n",
    "    \n",
    "    Returns:\n",
    "    Normalised eigenvalues and eigenfunctions\n",
    "    \"\"\"\n",
    "    n_points = np.shape(X)[1]\n",
    "    pca = PCA(n_components = n_comp)\n",
    "    pca.fit(X)\n",
    "    return (1/n_points)*pca.explained_variance_,pca.components_\n",
    "\n",
    "def K_FPCA(X,Y,gamma = 1,n_comp = 0.95):\n",
    "    \"\"\"\n",
    "    Forms the kernel matrix K for the two sample test using the SE-T kernel with bandwidth gamma\n",
    "    where T is the FPCA decomposition operator\n",
    "    \n",
    "    Parameters:\n",
    "    X - (n_samples,n_obs) array of samples from the first distribution \n",
    "    Y - (n_samples,n_obs) array of samples from the second distribution \n",
    "    gamma - bandwidthlengthscale for the kernel, if -1 then median heuristic is used to pick gamma\n",
    "    n_comp - number of principal components to compute. If in (0,1) then it is the explained variance level\n",
    "    \n",
    "    Returns:\n",
    "    K - matrix formed from the kernel values of all pairs of samples from the two distributions\n",
    "    \"\"\"\n",
    "    n_obs = X.shape[1]\n",
    "    XY = np.vstack((X,Y))\n",
    "    #Changed to calculate FPCA using only one set of samples\n",
    "    e_vals,e_funcs = FPCA(XY,n_comp = n_comp)\n",
    "    scaled_e_funcs = e_funcs*np.sqrt(e_vals[:,np.newaxis])\n",
    "    \n",
    "    #XY = np.vstack((X,Y))\n",
    "    XY_e = (1/n_obs)*np.dot(XY,scaled_e_funcs.T)\n",
    "    dist_mat = pairwise_distances(XY_e,metric='euclidean')\n",
    "    if gamma == -1:\n",
    "        gamma = np.median(dist_mat[dist_mat > 0])\n",
    "    K = np.exp(-0.5*(1/gamma**2)*(dist_mat**2))\n",
    "    return K\n",
    "\n",
    "def K_SQR(X,Y,gamma = 1):\n",
    "    \"\"\"\n",
    "    Forms the kernel matrix K for the two sample test using the SE-T kernel with bandwidth gamma\n",
    "    where T is the map which sends x -> (x,x^{2}) in the Cartesian product of L^{2} with itself.\n",
    "    \n",
    "    Parameters:\n",
    "    X - (n_samples,n_obs) array of samples from the first distribution \n",
    "    Y - (n_samples,n_obs) array of samples from the second distribution \n",
    "    gamma - bandwidthlengthscale for the kernel to be used on the two norms, if -1 then median heuristic \n",
    "            is used to pick a different gamma for each norm, if gamma = 0 then median heuristic\n",
    "            is used to pick a single gamma for each norm.\n",
    "            \n",
    "    Returns:\n",
    "    K - matrix formed from the kernel values of all pairs of samples from the two distributions\n",
    "    \"\"\"\n",
    "    n_obs = X.shape[1]\n",
    "    XY = np.vstack((X,Y))\n",
    "    dist_mat_1 = (1/np.sqrt(n_obs))*pairwise_distances(XY, metric='euclidean')\n",
    "    dist_mat_2 = (1/np.sqrt(n_obs))*pairwise_distances(XY**2, metric='euclidean')\n",
    "    dist_mat = dist_mat_1 + dist_mat_2\n",
    "    if gamma == 0:\n",
    "        gamma = np.median(dist_mat[dist_mat > 0])\n",
    "        K = np.exp(-0.5*(1/gamma**2)*dist_mat**2)\n",
    "        return K\n",
    "    if gamma == -1:\n",
    "        gamma_1 = np.median(dist_mat_1[dist_mat_1 > 0])\n",
    "        gamma_2 = np.median(dist_mat_2[dist_mat_2 > 0])\n",
    "        K = np.exp(-0.5*((1/gamma_1**2)*dist_mat_1**2 + (1/gamma_2**2)*dist_mat_2**2))\n",
    "        return K\n",
    "    K = np.exp(-0.5*((1/gamma**2)*(dist_mat**2)))\n",
    "    return K\n"
   ]
  },
  {
   "cell_type": "code",
   "execution_count": 53,
   "metadata": {},
   "outputs": [],
   "source": [
    "def cos_exp_kernel(x,y,n_freqs = 20,l=np.sqrt(10)):\n",
    "    \"\"\"\n",
    "    The c-exp kernel\n",
    "    \n",
    "    Parameters:\n",
    "    x,y - inputs \n",
    "    n_freqs - number of frequencies to include in the sum\n",
    "    l- bandwidth of the kernel\n",
    "    \n",
    "    Returns:\n",
    "    Kernel values given x,y\n",
    "    \"\"\"\n",
    "    \n",
    "    cos_term = np.sum([np.cos(2*np.pi*n*(x-y)) for n in range(n_freqs)])\n",
    "    return cos_term*np.exp(-(0.5/(l**2))*(x-y)**2)\n",
    "\n",
    "def CEXP(X,n_freqs = 20,l=np.sqrt(10)):\n",
    "    \"\"\"\n",
    "    Transforms an array of function values using the integral operator induced by the cos-exp kernel. \n",
    "    The function values are assumed to be on [0,1]\n",
    "    \n",
    "    Parameters:\n",
    "    X - (n_samples,n_obs) array of function values\n",
    "    n_freqs - number of frequencies to include in the sum\n",
    "    l- bandwidthlengthscale of the kernel\n",
    "    \n",
    "    Returns:\n",
    "    cos_exp_X - (n_samples,n_obs) array of function values where each function has been passed\n",
    "                through the integral operator induced by the cos-exp kernel\n",
    "    \"\"\"\n",
    "    n_obs = X.shape[1]\n",
    "    obs_grid = np.linspace(0,1,n_obs)\n",
    "    T_mat = pairwise_kernels(obs_grid.reshape(-1,1), metric = cos_exp_kernel, n_freqs = n_freqs,l=l)\n",
    "    cos_exp_X = (1./n_obs)*np.dot(X,T_mat)\n",
    "    return cos_exp_X\n",
    "\n",
    "def POLY(X):\n",
    "    \"\"\"\n",
    "    Maps the function values through a polynomial\n",
    "    \n",
    "    Parameters:\n",
    "    X - (n_samples,n_obs) array of function values\n",
    "    \n",
    "    Returns:\n",
    "    poly_X - (n_samples,n_obs) array of function values that have been passed through the polynomial\n",
    "    \"\"\"\n",
    "    poly_X = X + X**2 + X**3\n",
    "    return poly_X"
   ]
  },
  {
   "cell_type": "markdown",
   "metadata": {},
   "source": [
    "# 2. Testing Functions"
   ]
  },
  {
   "cell_type": "markdown",
   "metadata": {},
   "source": [
    "### The next three cells contain the functions used too conduct the two sample test.\n",
    "\n",
    "### MMD_K calculates an empirical MMD quantity \n",
    "\n",
    "### two_sample_test performs a two-sample test, using MMD_K multiple times\n",
    "\n",
    "### power_test performs two_sample_test numerous times to calculate an estimate of test power"
   ]
  },
  {
   "cell_type": "code",
   "execution_count": 54,
   "metadata": {},
   "outputs": [],
   "source": [
    "def MMD_K(K,M,N):\n",
    "    \"\"\"\n",
    "    Calculates the empirical MMD^{2} given a kernel matrix computed from the samples and the sample sizes of each distribution.\n",
    "    \n",
    "    Parameters:\n",
    "    K - kernel matrix of all pairwise kernel values of the two distributions\n",
    "    M - number of samples from first distribution\n",
    "    N - number of samples from first distribution\n",
    "    \n",
    "    Returns:\n",
    "    MMDsquared - empirical estimate of MMD^{2}\n",
    "    \"\"\"\n",
    "    \n",
    "    Kxx = K[:N,:N]\n",
    "    Kyy = K[N:,N:]\n",
    "    Kxy = K[:N,N:]\n",
    "    \n",
    "    t1 = (1./(M*(M-1)))*np.sum(Kxx - np.diag(np.diagonal(Kxx)))\n",
    "    t2 = (2./(M*N)) * np.sum(Kxy)\n",
    "    t3 = (1./(N*(N-1)))* np.sum(Kyy - np.diag(np.diagonal(Kyy)))\n",
    "    \n",
    "    MMDsquared = (t1-t2+t3)\n",
    "    \n",
    "    return MMDsquared"
   ]
  },
  {
   "cell_type": "code",
   "execution_count": 55,
   "metadata": {},
   "outputs": [],
   "source": [
    "def two_sample_test(X,Y,gamma,n_perms,z_alpha = 0.05,make_K = K_ID,return_p = False):\n",
    "    \"\"\"\n",
    "    Performs the two sample test and returns an accept or reject statement\n",
    "    \n",
    "    Parameters:\n",
    "    X - (n_samples,n_obs) array of samples from the first distribution \n",
    "    Y - (n_samples,n_obs) array of samples from the second distribution \n",
    "    gamma - bandwidthlengthscale for the kernel\n",
    "    n_perms - number of permutations performed when bootstrapping the null\n",
    "    z_alpha - rejection threshold of the test\n",
    "    return_p - option to return the p-value of the test\n",
    "    make_K - function called to construct the kernel matrix used to compute the empirical MMD\n",
    "    \n",
    "    Returns:\n",
    "    rej - 1 if null rejected, 0 if null accepted\n",
    "    p-value - p_value of test\n",
    "    \n",
    "    \"\"\"\n",
    "    \n",
    "    # Number of samples of each distribution is identified and kernel matrix formed\n",
    "    M = X.shape[0]\n",
    "    N = Y.shape[0]\n",
    "    K = make_K(X,Y,gamma = gamma)\n",
    "    \n",
    "    # Empirical MMD^{2} calculated\n",
    "    MMD_test = MMD_K(K,M,N)\n",
    "    \n",
    "    # For n_perms repeats the kernel matrix is shuffled and empirical MMD^{2} recomputed\n",
    "    # to simulate the null\n",
    "    shuffled_tests = np.zeros(n_perms)\n",
    "    for i in range(n_perms):\n",
    "            idx = np.random.permutation(M+N)\n",
    "            K = K[idx, idx[:, None]]\n",
    "            shuffled_tests[i] = MMD_K(K,M,N)\n",
    "    \n",
    "    # Threshold of the null calculated and test is rejected if empirical MMD^{2} of the data\n",
    "    # is larger than the threshold\n",
    "    q = np.quantile(shuffled_tests, 1.0-z_alpha)\n",
    "    rej = int(MMD_test > q)\n",
    "    \n",
    "    if return_p:\n",
    "        p_value = 1-(percentileofscore(shuffled_tests,MMD_test)/100)\n",
    "        return rej, p_value\n",
    "    else:\n",
    "        return rej"
   ]
  },
  {
   "cell_type": "code",
   "execution_count": 56,
   "metadata": {},
   "outputs": [],
   "source": [
    "def power_test(X_samples,Y_samples,gamma,n_tests,n_perms,z_alpha = 0.05,make_K = K_ID,return_p = False):\n",
    "    \"\"\"\n",
    "    Computes multiple two-sample tests and returns the rejection rate\n",
    "    \n",
    "    Parameters:\n",
    "    X_samples - (n_samples*n_tests,n_obs) array of samples from the first distribution \n",
    "    Y_samples - (n_samples*n_tests,n_obs) array of samples from the second distribution \n",
    "    gamma - bandwidthlengthscale for the kernel\n",
    "    n_tests - number of tests to perform\n",
    "    n_perms - number of permutations performed when bootstrapping the null\n",
    "    z_alpha - rejection threshold of the test\n",
    "    make_K - function called to construct the kernel matrix used to compute the empirical MMD\n",
    "    return_p - option to return the p-value of the test\n",
    "    \n",
    "    Returns:\n",
    "    power - the rate of rejection of the null\n",
    "    \"\"\"\n",
    "    \n",
    "    # Number of samples of each distribution is identified\n",
    "    M = int(X_samples.shape[0]/n_tests)\n",
    "    N = int(Y_samples.shape[0]/n_tests)\n",
    "    rej = np.zeros(n_tests)\n",
    "    \n",
    "    # For each test, extract the data to use and then perform the two-sample test\n",
    "    for t in tqdm(range(n_tests)):\n",
    "        X_t = X_samples[t*M:(t+1)*M,:]\n",
    "        Y_t = Y_samples[t*N:(t+1)*N,:]\n",
    "        rej[t] = two_sample_test(X_t,Y_t,gamma,n_perms,z_alpha = z_alpha,make_K = make_K,return_p = return_p)\n",
    "    \n",
    "    # Compute average rate of rejection\n",
    "    power = np.mean(rej)\n",
    "    return power"
   ]
  },
  {
   "cell_type": "markdown",
   "metadata": {},
   "source": [
    "# 3. Power scaling of i.i.d noise versus correlated noise"
   ]
  },
  {
   "cell_type": "markdown",
   "metadata": {},
   "source": [
    "### Samples of multivariate Gaussians are created for different covariance matrices constructed from the Gaussian kernel with different bandwidths. For different dimensions and different bandwidths the power of the two-sample test is computed. "
   ]
  },
  {
   "cell_type": "code",
   "execution_count": 7,
   "metadata": {},
   "outputs": [],
   "source": [
    "def K_l2(X,Y,gamma=1):\n",
    "    \"\"\"\n",
    "    Forms the kernel matrix K for the two sample test using the standard Gaussian kernel with Euclidean norm\n",
    "    with bandwidth gamma\n",
    "    \n",
    "    Parameters:\n",
    "    X - (n_samples,n_obs) array of samples from the first distribution \n",
    "    Y - (n_samples,n_obs) array of samples from the second distribution \n",
    "    gamma - bandwidth for the Gaussian kernel, if -1 then median heuristic is used to pick gamma\n",
    "    \n",
    "    Returns:\n",
    "    K - matrix formed from the kernel value of all pairs of samples from the two distributions\n",
    "    \"\"\"\n",
    "    XY = np.vstack((X,Y))\n",
    "    dist_mat = pairwise_distances(XY, metric='euclidean')\n",
    "    if gamma == -1:\n",
    "        gamma = np.median(dist_mat[dist_mat > 0])\n",
    "    K = np.exp(-0.5*(1/gamma**2)*(dist_mat**2))\n",
    "    return K"
   ]
  },
  {
   "cell_type": "code",
   "execution_count": 21,
   "metadata": {},
   "outputs": [],
   "source": [
    "# Random state is initialised for reproducibility and the arrays containing the dimensions\n",
    "# and square of bandwidthlengthscales is initialised\n",
    "rng = np.random.RandomState(5000)\n",
    "sub_d_arr = np.array([100,200,400,800,1600])\n",
    "l_sqr_arr = np.array([0,0.0005,0.001,0.002,0.004,0.008])\n",
    "\n",
    "# Number of tests to calculate power, number of permutations for the bootstrap and number of samples from\n",
    "# each distribution for each test\n",
    "n_tests = 500\n",
    "n_perms = 1000\n",
    "M = 50\n",
    "N = 50\n",
    "\n",
    "# Generating the data to be used for the tests. Data has identity covariance which will be transformed by \n",
    "# multiplication with a matrix for the different bandwidths\n",
    "max_d = np.max(sub_d_arr)\n",
    "X = rng.normal(0,1,(n_tests*M,max_d))\n",
    "Y = rng.normal(0,1,(n_tests*N,max_d)) \n",
    "m = 0.05\n",
    "mu = m*np.ones(max_d)\n",
    "Y_shift = Y + mu"
   ]
  },
  {
   "cell_type": "code",
   "execution_count": 22,
   "metadata": {
    "collapsed": true
   },
   "outputs": [
    {
     "data": {
      "application/vnd.jupyter.widget-view+json": {
       "model_id": "f7f4ac8367c74ca48099be9fe4ee73e8",
       "version_major": 2,
       "version_minor": 0
      },
      "text/plain": [
       "HBox(children=(IntProgress(value=0, max=6), HTML(value='')))"
      ]
     },
     "metadata": {},
     "output_type": "display_data"
    },
    {
     "data": {
      "application/vnd.jupyter.widget-view+json": {
       "model_id": "708987fd468e4f91abe7dc09f6047346",
       "version_major": 2,
       "version_minor": 0
      },
      "text/plain": [
       "HBox(children=(IntProgress(value=0, max=500), HTML(value='')))"
      ]
     },
     "metadata": {},
     "output_type": "display_data"
    },
    {
     "data": {
      "application/vnd.jupyter.widget-view+json": {
       "model_id": "9ed5f0ca067646e0bcb5498313496d93",
       "version_major": 2,
       "version_minor": 0
      },
      "text/plain": [
       "HBox(children=(IntProgress(value=0, max=500), HTML(value='')))"
      ]
     },
     "metadata": {},
     "output_type": "display_data"
    },
    {
     "data": {
      "application/vnd.jupyter.widget-view+json": {
       "model_id": "db0a9ea48e95402097817e8d444a1bff",
       "version_major": 2,
       "version_minor": 0
      },
      "text/plain": [
       "HBox(children=(IntProgress(value=0, max=500), HTML(value='')))"
      ]
     },
     "metadata": {},
     "output_type": "display_data"
    },
    {
     "data": {
      "application/vnd.jupyter.widget-view+json": {
       "model_id": "2bd136e82ef048c2a4e18aaea6c2e257",
       "version_major": 2,
       "version_minor": 0
      },
      "text/plain": [
       "HBox(children=(IntProgress(value=0, max=500), HTML(value='')))"
      ]
     },
     "metadata": {},
     "output_type": "display_data"
    },
    {
     "data": {
      "application/vnd.jupyter.widget-view+json": {
       "model_id": "624db7a7cf8041408bb34856e53de59f",
       "version_major": 2,
       "version_minor": 0
      },
      "text/plain": [
       "HBox(children=(IntProgress(value=0, max=500), HTML(value='')))"
      ]
     },
     "metadata": {},
     "output_type": "display_data"
    },
    {
     "data": {
      "application/vnd.jupyter.widget-view+json": {
       "model_id": "8597c5240b6644799d93c20808d53283",
       "version_major": 2,
       "version_minor": 0
      },
      "text/plain": [
       "HBox(children=(IntProgress(value=0, max=500), HTML(value='')))"
      ]
     },
     "metadata": {},
     "output_type": "display_data"
    },
    {
     "data": {
      "application/vnd.jupyter.widget-view+json": {
       "model_id": "c6d2c408ff6e4942a3dd0e8e06feb66b",
       "version_major": 2,
       "version_minor": 0
      },
      "text/plain": [
       "HBox(children=(IntProgress(value=0, max=500), HTML(value='')))"
      ]
     },
     "metadata": {},
     "output_type": "display_data"
    },
    {
     "data": {
      "application/vnd.jupyter.widget-view+json": {
       "model_id": "c8e1bb781b764ad9a74509b65f288643",
       "version_major": 2,
       "version_minor": 0
      },
      "text/plain": [
       "HBox(children=(IntProgress(value=0, max=500), HTML(value='')))"
      ]
     },
     "metadata": {},
     "output_type": "display_data"
    },
    {
     "data": {
      "application/vnd.jupyter.widget-view+json": {
       "model_id": "86a568e1ef2f44abb0735c9186f6822b",
       "version_major": 2,
       "version_minor": 0
      },
      "text/plain": [
       "HBox(children=(IntProgress(value=0, max=500), HTML(value='')))"
      ]
     },
     "metadata": {},
     "output_type": "display_data"
    },
    {
     "data": {
      "application/vnd.jupyter.widget-view+json": {
       "model_id": "60e6288fc3ee41c49ba9267102442b52",
       "version_major": 2,
       "version_minor": 0
      },
      "text/plain": [
       "HBox(children=(IntProgress(value=0, max=500), HTML(value='')))"
      ]
     },
     "metadata": {},
     "output_type": "display_data"
    },
    {
     "data": {
      "application/vnd.jupyter.widget-view+json": {
       "model_id": "c6b256f4b4a5449c8a20fc2d3f9c485a",
       "version_major": 2,
       "version_minor": 0
      },
      "text/plain": [
       "HBox(children=(IntProgress(value=0, max=500), HTML(value='')))"
      ]
     },
     "metadata": {},
     "output_type": "display_data"
    },
    {
     "data": {
      "application/vnd.jupyter.widget-view+json": {
       "model_id": "0a8160ff846e4cf38b75176f9613907e",
       "version_major": 2,
       "version_minor": 0
      },
      "text/plain": [
       "HBox(children=(IntProgress(value=0, max=500), HTML(value='')))"
      ]
     },
     "metadata": {},
     "output_type": "display_data"
    },
    {
     "data": {
      "application/vnd.jupyter.widget-view+json": {
       "model_id": "564991a3364c4f82af525b93cc19c5cc",
       "version_major": 2,
       "version_minor": 0
      },
      "text/plain": [
       "HBox(children=(IntProgress(value=0, max=500), HTML(value='')))"
      ]
     },
     "metadata": {},
     "output_type": "display_data"
    },
    {
     "data": {
      "application/vnd.jupyter.widget-view+json": {
       "model_id": "4520ef7e263f470d9aea08b2f365974d",
       "version_major": 2,
       "version_minor": 0
      },
      "text/plain": [
       "HBox(children=(IntProgress(value=0, max=500), HTML(value='')))"
      ]
     },
     "metadata": {},
     "output_type": "display_data"
    },
    {
     "data": {
      "application/vnd.jupyter.widget-view+json": {
       "model_id": "5819b99806a844f0b5865beedd40384a",
       "version_major": 2,
       "version_minor": 0
      },
      "text/plain": [
       "HBox(children=(IntProgress(value=0, max=500), HTML(value='')))"
      ]
     },
     "metadata": {},
     "output_type": "display_data"
    },
    {
     "data": {
      "application/vnd.jupyter.widget-view+json": {
       "model_id": "3f7323eaef274c678e45cdd6f6319100",
       "version_major": 2,
       "version_minor": 0
      },
      "text/plain": [
       "HBox(children=(IntProgress(value=0, max=500), HTML(value='')))"
      ]
     },
     "metadata": {},
     "output_type": "display_data"
    },
    {
     "data": {
      "application/vnd.jupyter.widget-view+json": {
       "model_id": "b6f9f71cee834eef993e352b88b71168",
       "version_major": 2,
       "version_minor": 0
      },
      "text/plain": [
       "HBox(children=(IntProgress(value=0, max=500), HTML(value='')))"
      ]
     },
     "metadata": {},
     "output_type": "display_data"
    },
    {
     "data": {
      "application/vnd.jupyter.widget-view+json": {
       "model_id": "859b5dc511d448d3b0964160f21e7e3f",
       "version_major": 2,
       "version_minor": 0
      },
      "text/plain": [
       "HBox(children=(IntProgress(value=0, max=500), HTML(value='')))"
      ]
     },
     "metadata": {},
     "output_type": "display_data"
    }
   ],
   "source": [
    "powers = np.zeros((len(l_sqr_arr),len(sub_d_arr)))\n",
    "for i,l_sqr in enumerate(tqdm(l_sqr_arr)):\n",
    "    for j,sub_d in enumerate(sub_d_arr):\n",
    "        # Sets the bandwidth\n",
    "        gamma = np.sqrt(sub_d)\n",
    "        \n",
    "        # l = 0 corresponds to i.i.d. data so no multiplication to change the covariance needed\n",
    "        if l_sqr == 0:\n",
    "            powers[i,j] = power_test(X[:,:sub_d],Y_shift[:,:sub_d],gamma,n_tests,n_perms,make_K = K_l2)\n",
    "        else:\n",
    "            # Constructs the square root of the covariance matrix for the given bandwidth\n",
    "            xd = np.linspace(0,1,sub_d)\n",
    "            sqrt_exp_mat = lin.sqrtm(np.exp(-(1/(2*l_sqr))*pairwise_distances(xd[:,np.newaxis])))\n",
    "            \n",
    "            # Create correlated samples by matrix multiplication\n",
    "            X_corr = np.dot(X[:,:sub_d],sqrt_exp_mat)\n",
    "            Y_corr = np.dot(Y[:,:sub_d],sqrt_exp_mat)\n",
    "            Y_corr_shift = Y_corr + mu[:sub_d]\n",
    "            powers[i,j] = power_test(X_corr,Y_corr_shift,gamma,n_tests,n_perms,make_K = K_l2)"
   ]
  },
  {
   "cell_type": "code",
   "execution_count": 25,
   "metadata": {},
   "outputs": [
    {
     "data": {
      "text/plain": [
       "[<matplotlib.lines.Line2D at 0x139f11278>,\n",
       " <matplotlib.lines.Line2D at 0x139f113c8>,\n",
       " <matplotlib.lines.Line2D at 0x139f11518>,\n",
       " <matplotlib.lines.Line2D at 0x139f11668>,\n",
       " <matplotlib.lines.Line2D at 0x139f117b8>,\n",
       " <matplotlib.lines.Line2D at 0x139f11908>]"
      ]
     },
     "execution_count": 25,
     "metadata": {},
     "output_type": "execute_result"
    },
    {
     "data": {
      "image/png": "[encoded data removed]",
      "text/plain": [
       "<Figure size 432x288 with 1 Axes>"
      ]
     },
     "metadata": {
      "needs_background": "light"
     },
     "output_type": "display_data"
    }
   ],
   "source": [
    "plt.plot(sub_d_arr,powers.T)"
   ]
  },
  {
   "cell_type": "markdown",
   "metadata": {},
   "source": [
    "# 4. Synthetic Mean Shift Data"
   ]
  },
  {
   "cell_type": "markdown",
   "metadata": {},
   "source": [
    "### Data is from Scenario A). of Section 4.1 of \"A Two Sample Distribution-Free Test for Functional Data with Application to a Diffusion Tensor Imaging Study of Multiple Sclerosis\" by Pomann et al, JRSSB 2016"
   ]
  },
  {
   "cell_type": "code",
   "execution_count": 36,
   "metadata": {},
   "outputs": [],
   "source": [
    "def mean_shift(n_samples,obs_grid,delta = 0,sd = np.sqrt(0.25),random_state = None):\n",
    "    \"\"\"\n",
    "    Data used for the mean shift test. \n",
    "    \n",
    "    Parameters:\n",
    "    n_samples - number of function samples to return\n",
    "    obs_grid - observation locations \n",
    "    delta - the coefficient of t^3\n",
    "    sd - the standard deviation of the observation noise\n",
    "    random_state - random seed\n",
    "    \n",
    "    \"\"\"\n",
    "    rng = np.random.RandomState(random_state)\n",
    "    n_points = len(obs_grid)\n",
    "    X = (rng.normal(0,np.sqrt(10),(n_samples,1))*np.sqrt(2)*np.sin(2*np.pi*obs_grid)) + (rng.normal(0,np.sqrt(5),(n_samples,1))*np.sqrt(2)*np.cos(2*np.pi*obs_grid))\n",
    "    X += obs_grid + delta*(obs_grid**3)\n",
    "    X += rng.normal(0,sd,(n_samples,n_points))\n",
    "    return X"
   ]
  },
  {
   "cell_type": "code",
   "execution_count": 37,
   "metadata": {},
   "outputs": [],
   "source": [
    "# Set random seed\n",
    "rng_X = 5314\n",
    "rng_Y = 3895\n",
    "\n",
    "# Number of tests and permutations for the bootstrap per test\n",
    "n_tests = 500\n",
    "n_perms = 1000\n",
    "\n",
    "# Samples sizes for the two distributions\n",
    "M = 150\n",
    "N = 150\n",
    "\n",
    "# Range of parameters to test over\n",
    "delta_arr = np.array([0,1.25])\n",
    "\n",
    "# Grid of observation locations\n",
    "n_grid_points = 100\n",
    "obs_grid = np.linspace(0,1,n_grid_points)\n",
    "\n",
    "# Set bandwidth parameter, -1 causes median heuristic to be used\n",
    "gamma = -1"
   ]
  },
  {
   "cell_type": "code",
   "execution_count": 20,
   "metadata": {},
   "outputs": [
    {
     "data": {
      "application/vnd.jupyter.widget-view+json": {
       "model_id": "47d2574c284043cba18e85eed712c1a5",
       "version_major": 2,
       "version_minor": 0
      },
      "text/plain": [
       "HBox(children=(IntProgress(value=0, max=1), HTML(value='')))"
      ]
     },
     "metadata": {},
     "output_type": "display_data"
    },
    {
     "data": {
      "application/vnd.jupyter.widget-view+json": {
       "model_id": "e056ffb035c04ac890192c8dfd00c3fa",
       "version_major": 2,
       "version_minor": 0
      },
      "text/plain": [
       "HBox(children=(IntProgress(value=0, max=500), HTML(value='')))"
      ]
     },
     "metadata": {},
     "output_type": "display_data"
    },
    {
     "name": "stdout",
     "output_type": "stream",
     "text": [
      "0 0.054\n"
     ]
    }
   ],
   "source": [
    "mean_shift_powers = np.zeros(len(delta_arr)) \n",
    "\n",
    "# Loop over delta values\n",
    "for i,delta in enumerate(tqdm(delta_arr)):\n",
    "    # Generate the data\n",
    "    X = mean_shift(M*n_tests,obs_grid,delta = 0,sd = np.sqrt(0.25),random_state = rng_X)\n",
    "    Y = mean_shift(N*n_tests,obs_grid,delta = delta,sd = np.sqrt(0.25),random_state = rng_Y)\n",
    "    \n",
    "    # For each of the different scenarios ID, FPCA, SQR, CEXP, POLY alter the code as follows:\n",
    "    # ID: Use K_ID in power_test\n",
    "    # FPCA: Use K_FPCA in power_test\n",
    "    # SQR: Use K_SQR in power_test\n",
    "    # CEXP: Run the two following lines before using K_ID in power_test, for given values of n_freqs and l\n",
    "    #X = CEXP(X,n_freqs=20,l=np.sqrt(10)) \n",
    "    #Y = CEXP(Y,n_freqs=20,l=np.sqrt(10)) \n",
    "    # POLY: Run the two following lines before using K_ID in power_test\n",
    "    # X = POLY(X) \n",
    "    # Y = POLY(Y) \n",
    "    \n",
    "    \n",
    "    # Calculate and store power for this choice the delta\n",
    "    mean_shift_powers[i] = power_test(X,Y,gamma,n_tests,n_perms,make_K = K_ID)\n",
    "    print(delta, mean_shift_powers[i])"
   ]
  },
  {
   "cell_type": "markdown",
   "metadata": {},
   "source": [
    "# Plotting ROC curves"
   ]
  },
  {
   "cell_type": "code",
   "execution_count": 81,
   "metadata": {},
   "outputs": [
    {
     "data": {
      "text/plain": [
       "array([0.05, 0.15, 0.25, 0.35, 0.45, 0.55, 0.65, 0.75, 0.85, 0.95])"
      ]
     },
     "execution_count": 81,
     "metadata": {},
     "output_type": "execute_result"
    }
   ],
   "source": [
    "np.linspace(0,0.9,10)+0.05"
   ]
  },
  {
   "cell_type": "code",
   "execution_count": 93,
   "metadata": {
    "scrolled": true
   },
   "outputs": [
    {
     "data": {
      "application/vnd.jupyter.widget-view+json": {
       "model_id": "6653690461404789bdbe4362e8bb3176",
       "version_major": 2,
       "version_minor": 0
      },
      "text/plain": [
       "HBox(children=(IntProgress(value=0, max=10), HTML(value='')))"
      ]
     },
     "metadata": {},
     "output_type": "display_data"
    },
    {
     "data": {
      "application/vnd.jupyter.widget-view+json": {
       "model_id": "3e863d69b6d04fc9b066fbe0e8b0f28f",
       "version_major": 2,
       "version_minor": 0
      },
      "text/plain": [
       "HBox(children=(IntProgress(value=0, max=500), HTML(value='')))"
      ]
     },
     "metadata": {},
     "output_type": "display_data"
    },
    {
     "ename": "KeyboardInterrupt",
     "evalue": "",
     "output_type": "error",
     "traceback": [
      "\u001b[0;31m---------------------------------------------------------------------------\u001b[0m",
      "\u001b[0;31mKeyboardInterrupt\u001b[0m                         Traceback (most recent call last)",
      "\u001b[0;32m<ipython-input-93-9d329094c73b>\u001b[0m in \u001b[0;36m<module>\u001b[0;34m\u001b[0m\n\u001b[1;32m     21\u001b[0m \u001b[0;34m\u001b[0m\u001b[0m\n\u001b[1;32m     22\u001b[0m     \u001b[0;31m# Calculate and store power for this choice the delta\u001b[0m\u001b[0;34m\u001b[0m\u001b[0;34m\u001b[0m\u001b[0;34m\u001b[0m\u001b[0m\n\u001b[0;32m---> 23\u001b[0;31m     \u001b[0mmean_shift_powers\u001b[0m\u001b[0;34m[\u001b[0m\u001b[0mi\u001b[0m\u001b[0;34m]\u001b[0m \u001b[0;34m=\u001b[0m \u001b[0mpower_test\u001b[0m\u001b[0;34m(\u001b[0m\u001b[0mX\u001b[0m\u001b[0;34m,\u001b[0m\u001b[0mY\u001b[0m\u001b[0;34m,\u001b[0m\u001b[0mgamma\u001b[0m\u001b[0;34m,\u001b[0m\u001b[0mn_tests\u001b[0m\u001b[0;34m,\u001b[0m\u001b[0mn_perms\u001b[0m\u001b[0;34m,\u001b[0m\u001b[0mmake_K\u001b[0m \u001b[0;34m=\u001b[0m \u001b[0mK_FPCA\u001b[0m\u001b[0;34m,\u001b[0m\u001b[0mz_alpha\u001b[0m \u001b[0;34m=\u001b[0m \u001b[0malpha\u001b[0m\u001b[0;34m)\u001b[0m\u001b[0;34m\u001b[0m\u001b[0;34m\u001b[0m\u001b[0m\n\u001b[0m\u001b[1;32m     24\u001b[0m     \u001b[0mprint\u001b[0m\u001b[0;34m(\u001b[0m\u001b[0;34m'alpha: '\u001b[0m\u001b[0;34m,\u001b[0m\u001b[0malpha\u001b[0m\u001b[0;34m,\u001b[0m \u001b[0;34m' True positive rate rate: '\u001b[0m\u001b[0;34m,\u001b[0m \u001b[0mmean_shift_powers\u001b[0m\u001b[0;34m[\u001b[0m\u001b[0mi\u001b[0m\u001b[0;34m]\u001b[0m\u001b[0;34m)\u001b[0m\u001b[0;34m\u001b[0m\u001b[0;34m\u001b[0m\u001b[0m\n",
      "\u001b[0;32m<ipython-input-56-b4ece97c1fc7>\u001b[0m in \u001b[0;36mpower_test\u001b[0;34m(X_samples, Y_samples, gamma, n_tests, n_perms, z_alpha, make_K, return_p)\u001b[0m\n\u001b[1;32m     26\u001b[0m         \u001b[0mX_t\u001b[0m \u001b[0;34m=\u001b[0m \u001b[0mX_samples\u001b[0m\u001b[0;34m[\u001b[0m\u001b[0mt\u001b[0m\u001b[0;34m*\u001b[0m\u001b[0mM\u001b[0m\u001b[0;34m:\u001b[0m\u001b[0;34m(\u001b[0m\u001b[0mt\u001b[0m\u001b[0;34m+\u001b[0m\u001b[0;36m1\u001b[0m\u001b[0;34m)\u001b[0m\u001b[0;34m*\u001b[0m\u001b[0mM\u001b[0m\u001b[0;34m,\u001b[0m\u001b[0;34m:\u001b[0m\u001b[0;34m]\u001b[0m\u001b[0;34m\u001b[0m\u001b[0;34m\u001b[0m\u001b[0m\n\u001b[1;32m     27\u001b[0m         \u001b[0mY_t\u001b[0m \u001b[0;34m=\u001b[0m \u001b[0mY_samples\u001b[0m\u001b[0;34m[\u001b[0m\u001b[0mt\u001b[0m\u001b[0;34m*\u001b[0m\u001b[0mN\u001b[0m\u001b[0;34m:\u001b[0m\u001b[0;34m(\u001b[0m\u001b[0mt\u001b[0m\u001b[0;34m+\u001b[0m\u001b[0;36m1\u001b[0m\u001b[0;34m)\u001b[0m\u001b[0;34m*\u001b[0m\u001b[0mN\u001b[0m\u001b[0;34m,\u001b[0m\u001b[0;34m:\u001b[0m\u001b[0;34m]\u001b[0m\u001b[0;34m\u001b[0m\u001b[0;34m\u001b[0m\u001b[0m\n\u001b[0;32m---> 28\u001b[0;31m         \u001b[0mrej\u001b[0m\u001b[0;34m[\u001b[0m\u001b[0mt\u001b[0m\u001b[0;34m]\u001b[0m \u001b[0;34m=\u001b[0m \u001b[0mtwo_sample_test\u001b[0m\u001b[0;34m(\u001b[0m\u001b[0mX_t\u001b[0m\u001b[0;34m,\u001b[0m\u001b[0mY_t\u001b[0m\u001b[0;34m,\u001b[0m\u001b[0mgamma\u001b[0m\u001b[0;34m,\u001b[0m\u001b[0mn_perms\u001b[0m\u001b[0;34m,\u001b[0m\u001b[0mz_alpha\u001b[0m \u001b[0;34m=\u001b[0m \u001b[0mz_alpha\u001b[0m\u001b[0;34m,\u001b[0m\u001b[0mmake_K\u001b[0m \u001b[0;34m=\u001b[0m \u001b[0mmake_K\u001b[0m\u001b[0;34m,\u001b[0m\u001b[0mreturn_p\u001b[0m \u001b[0;34m=\u001b[0m \u001b[0mreturn_p\u001b[0m\u001b[0;34m)\u001b[0m\u001b[0;34m\u001b[0m\u001b[0;34m\u001b[0m\u001b[0m\n\u001b[0m\u001b[1;32m     29\u001b[0m \u001b[0;34m\u001b[0m\u001b[0m\n\u001b[1;32m     30\u001b[0m     \u001b[0;31m# Compute average rate of rejection\u001b[0m\u001b[0;34m\u001b[0m\u001b[0;34m\u001b[0m\u001b[0;34m\u001b[0m\u001b[0m\n",
      "\u001b[0;32m<ipython-input-55-0db6c205b098>\u001b[0m in \u001b[0;36mtwo_sample_test\u001b[0;34m(X, Y, gamma, n_perms, z_alpha, make_K, return_p)\u001b[0m\n\u001b[1;32m     32\u001b[0m             \u001b[0midx\u001b[0m \u001b[0;34m=\u001b[0m \u001b[0mnp\u001b[0m\u001b[0;34m.\u001b[0m\u001b[0mrandom\u001b[0m\u001b[0;34m.\u001b[0m\u001b[0mpermutation\u001b[0m\u001b[0;34m(\u001b[0m\u001b[0mM\u001b[0m\u001b[0;34m+\u001b[0m\u001b[0mN\u001b[0m\u001b[0;34m)\u001b[0m\u001b[0;34m\u001b[0m\u001b[0;34m\u001b[0m\u001b[0m\n\u001b[1;32m     33\u001b[0m             \u001b[0mK\u001b[0m \u001b[0;34m=\u001b[0m \u001b[0mK\u001b[0m\u001b[0;34m[\u001b[0m\u001b[0midx\u001b[0m\u001b[0;34m,\u001b[0m \u001b[0midx\u001b[0m\u001b[0;34m[\u001b[0m\u001b[0;34m:\u001b[0m\u001b[0;34m,\u001b[0m \u001b[0;32mNone\u001b[0m\u001b[0;34m]\u001b[0m\u001b[0;34m]\u001b[0m\u001b[0;34m\u001b[0m\u001b[0;34m\u001b[0m\u001b[0m\n\u001b[0;32m---> 34\u001b[0;31m             \u001b[0mshuffled_tests\u001b[0m\u001b[0;34m[\u001b[0m\u001b[0mi\u001b[0m\u001b[0;34m]\u001b[0m \u001b[0;34m=\u001b[0m \u001b[0mMMD_K\u001b[0m\u001b[0;34m(\u001b[0m\u001b[0mK\u001b[0m\u001b[0;34m,\u001b[0m\u001b[0mM\u001b[0m\u001b[0;34m,\u001b[0m\u001b[0mN\u001b[0m\u001b[0;34m)\u001b[0m\u001b[0;34m\u001b[0m\u001b[0;34m\u001b[0m\u001b[0m\n\u001b[0m\u001b[1;32m     35\u001b[0m \u001b[0;34m\u001b[0m\u001b[0m\n\u001b[1;32m     36\u001b[0m     \u001b[0;31m# Threshold of the null calculated and test is rejected if empirical MMD^{2} of the data\u001b[0m\u001b[0;34m\u001b[0m\u001b[0;34m\u001b[0m\u001b[0;34m\u001b[0m\u001b[0m\n",
      "\u001b[0;32m<ipython-input-54-4d35b64c0b40>\u001b[0m in \u001b[0;36mMMD_K\u001b[0;34m(K, M, N)\u001b[0m\n\u001b[1;32m     16\u001b[0m     \u001b[0mKxy\u001b[0m \u001b[0;34m=\u001b[0m \u001b[0mK\u001b[0m\u001b[0;34m[\u001b[0m\u001b[0;34m:\u001b[0m\u001b[0mN\u001b[0m\u001b[0;34m,\u001b[0m\u001b[0mN\u001b[0m\u001b[0;34m:\u001b[0m\u001b[0;34m]\u001b[0m\u001b[0;34m\u001b[0m\u001b[0;34m\u001b[0m\u001b[0m\n\u001b[1;32m     17\u001b[0m \u001b[0;34m\u001b[0m\u001b[0m\n\u001b[0;32m---> 18\u001b[0;31m     \u001b[0mt1\u001b[0m \u001b[0;34m=\u001b[0m \u001b[0;34m(\u001b[0m\u001b[0;36m1.\u001b[0m\u001b[0;34m/\u001b[0m\u001b[0;34m(\u001b[0m\u001b[0mM\u001b[0m\u001b[0;34m*\u001b[0m\u001b[0;34m(\u001b[0m\u001b[0mM\u001b[0m\u001b[0;34m-\u001b[0m\u001b[0;36m1\u001b[0m\u001b[0;34m)\u001b[0m\u001b[0;34m)\u001b[0m\u001b[0;34m)\u001b[0m\u001b[0;34m*\u001b[0m\u001b[0mnp\u001b[0m\u001b[0;34m.\u001b[0m\u001b[0msum\u001b[0m\u001b[0;34m(\u001b[0m\u001b[0mKxx\u001b[0m \u001b[0;34m-\u001b[0m \u001b[0mnp\u001b[0m\u001b[0;34m.\u001b[0m\u001b[0mdiag\u001b[0m\u001b[0;34m(\u001b[0m\u001b[0mnp\u001b[0m\u001b[0;34m.\u001b[0m\u001b[0mdiagonal\u001b[0m\u001b[0;34m(\u001b[0m\u001b[0mKxx\u001b[0m\u001b[0;34m)\u001b[0m\u001b[0;34m)\u001b[0m\u001b[0;34m)\u001b[0m\u001b[0;34m\u001b[0m\u001b[0;34m\u001b[0m\u001b[0m\n\u001b[0m\u001b[1;32m     19\u001b[0m     \u001b[0mt2\u001b[0m \u001b[0;34m=\u001b[0m \u001b[0;34m(\u001b[0m\u001b[0;36m2.\u001b[0m\u001b[0;34m/\u001b[0m\u001b[0;34m(\u001b[0m\u001b[0mM\u001b[0m\u001b[0;34m*\u001b[0m\u001b[0mN\u001b[0m\u001b[0;34m)\u001b[0m\u001b[0;34m)\u001b[0m \u001b[0;34m*\u001b[0m \u001b[0mnp\u001b[0m\u001b[0;34m.\u001b[0m\u001b[0msum\u001b[0m\u001b[0;34m(\u001b[0m\u001b[0mKxy\u001b[0m\u001b[0;34m)\u001b[0m\u001b[0;34m\u001b[0m\u001b[0;34m\u001b[0m\u001b[0m\n\u001b[1;32m     20\u001b[0m     \u001b[0mt3\u001b[0m \u001b[0;34m=\u001b[0m \u001b[0;34m(\u001b[0m\u001b[0;36m1.\u001b[0m\u001b[0;34m/\u001b[0m\u001b[0;34m(\u001b[0m\u001b[0mN\u001b[0m\u001b[0;34m*\u001b[0m\u001b[0;34m(\u001b[0m\u001b[0mN\u001b[0m\u001b[0;34m-\u001b[0m\u001b[0;36m1\u001b[0m\u001b[0;34m)\u001b[0m\u001b[0;34m)\u001b[0m\u001b[0;34m)\u001b[0m\u001b[0;34m*\u001b[0m \u001b[0mnp\u001b[0m\u001b[0;34m.\u001b[0m\u001b[0msum\u001b[0m\u001b[0;34m(\u001b[0m\u001b[0mKyy\u001b[0m \u001b[0;34m-\u001b[0m \u001b[0mnp\u001b[0m\u001b[0;34m.\u001b[0m\u001b[0mdiag\u001b[0m\u001b[0;34m(\u001b[0m\u001b[0mnp\u001b[0m\u001b[0;34m.\u001b[0m\u001b[0mdiagonal\u001b[0m\u001b[0;34m(\u001b[0m\u001b[0mKyy\u001b[0m\u001b[0;34m)\u001b[0m\u001b[0;34m)\u001b[0m\u001b[0;34m)\u001b[0m\u001b[0;34m\u001b[0m\u001b[0;34m\u001b[0m\u001b[0m\n",
      "\u001b[0;32m~/anaconda3/lib/python3.7/site-packages/numpy/lib/twodim_base.py\u001b[0m in \u001b[0;36mdiag\u001b[0;34m(v, k)\u001b[0m\n\u001b[1;32m    253\u001b[0m     \u001b[0;32mif\u001b[0m \u001b[0mlen\u001b[0m\u001b[0;34m(\u001b[0m\u001b[0ms\u001b[0m\u001b[0;34m)\u001b[0m \u001b[0;34m==\u001b[0m \u001b[0;36m1\u001b[0m\u001b[0;34m:\u001b[0m\u001b[0;34m\u001b[0m\u001b[0;34m\u001b[0m\u001b[0m\n\u001b[1;32m    254\u001b[0m         \u001b[0mn\u001b[0m \u001b[0;34m=\u001b[0m \u001b[0ms\u001b[0m\u001b[0;34m[\u001b[0m\u001b[0;36m0\u001b[0m\u001b[0;34m]\u001b[0m\u001b[0;34m+\u001b[0m\u001b[0mabs\u001b[0m\u001b[0;34m(\u001b[0m\u001b[0mk\u001b[0m\u001b[0;34m)\u001b[0m\u001b[0;34m\u001b[0m\u001b[0;34m\u001b[0m\u001b[0m\n\u001b[0;32m--> 255\u001b[0;31m         \u001b[0mres\u001b[0m \u001b[0;34m=\u001b[0m \u001b[0mzeros\u001b[0m\u001b[0;34m(\u001b[0m\u001b[0;34m(\u001b[0m\u001b[0mn\u001b[0m\u001b[0;34m,\u001b[0m \u001b[0mn\u001b[0m\u001b[0;34m)\u001b[0m\u001b[0;34m,\u001b[0m \u001b[0mv\u001b[0m\u001b[0;34m.\u001b[0m\u001b[0mdtype\u001b[0m\u001b[0;34m)\u001b[0m\u001b[0;34m\u001b[0m\u001b[0;34m\u001b[0m\u001b[0m\n\u001b[0m\u001b[1;32m    256\u001b[0m         \u001b[0;32mif\u001b[0m \u001b[0mk\u001b[0m \u001b[0;34m>=\u001b[0m \u001b[0;36m0\u001b[0m\u001b[0;34m:\u001b[0m\u001b[0;34m\u001b[0m\u001b[0;34m\u001b[0m\u001b[0m\n\u001b[1;32m    257\u001b[0m             \u001b[0mi\u001b[0m \u001b[0;34m=\u001b[0m \u001b[0mk\u001b[0m\u001b[0;34m\u001b[0m\u001b[0;34m\u001b[0m\u001b[0m\n",
      "\u001b[0;31mKeyboardInterrupt\u001b[0m: "
     ]
    }
   ],
   "source": [
    "alpha_arr = np.linspace(0,0.9,10)+0.05\n",
    "N = 50\n",
    "mean_shift_powers = np.zeros(len(z_alpha_arr))\n",
    "\n",
    "for i,alpha in enumerate(tqdm(alpha_arr)):\n",
    "    # Generate the data\n",
    "    X = mean_shift(N*n_tests,obs_grid,delta = 0,sd = np.sqrt(0.25),random_state = rng_X)\n",
    "    Y = mean_shift(N*n_tests,obs_grid,delta = 1.25,sd = np.sqrt(0.25),random_state = rng_Y)\n",
    "    \n",
    "    # For each of the different scenarios ID, FPCA, SQR, CEXP, POLY alter the code as follows:\n",
    "    # ID: Use K_ID in power_test\n",
    "    # FPCA: Use K_FPCA in power_test\n",
    "    # SQR: Use K_SQR in power_test\n",
    "    # CEXP: Run the two following lines before using K_ID in power_test, for given values of n_freqs and l\n",
    "    #X = CEXP(X,n_freqs=20,l=np.sqrt(10)) \n",
    "    #Y = CEXP(Y,n_freqs=20,l=np.sqrt(10)) \n",
    "    # POLY: Run the two following lines before using K_ID in power_test\n",
    "    #X = POLY(X) \n",
    "    #Y = POLY(Y) \n",
    "    \n",
    "    \n",
    "    # Calculate and store power for this choice the delta\n",
    "    mean_shift_powers[i] = power_test(X,Y,gamma,n_tests,n_perms,make_K = K_FPCA,z_alpha = alpha)\n",
    "    print('alpha: ',alpha, ' True positive rate rate: ', mean_shift_powers[i])"
   ]
  },
  {
   "cell_type": "code",
   "execution_count": 91,
   "metadata": {},
   "outputs": [],
   "source": [
    "np.save('mean_N_50_del_1.25_FPCA_ROC',mean_shift_powers)"
   ]
  },
  {
   "cell_type": "code",
   "execution_count": 48,
   "metadata": {},
   "outputs": [],
   "source": [
    "ID_50 = np.load('mean_N_50_del_1.25_ID_ROC.npy')\n",
    "FPCA_50 = np.load('mean_N_50_del_1.25_FPCA_ROC.npy')\n",
    "SQR_50 = np.load('mean_N_50_del_1.25_SQR_ROC.npy')\n",
    "POLY_50 = np.load('mean_N_50_del_1.25_POLY_ROC.npy')\n",
    "CEXP_50 = np.load('mean_N_50_del_1.25_CEXP_ROC.npy')"
   ]
  },
  {
   "cell_type": "code",
   "execution_count": 50,
   "metadata": {},
   "outputs": [
    {
     "data": {
      "image/png": "[encoded data removed]",
      "text/plain": [
       "<Figure size 432x288 with 1 Axes>"
      ]
     },
     "metadata": {
      "needs_background": "light"
     },
     "output_type": "display_data"
    }
   ],
   "source": [
    "plt.plot(z_alpha_arr,ID_50,label = 'ID')\n",
    "plt.plot(z_alpha_arr,FPCA_50,label = 'FPCA')\n",
    "plt.plot(z_alpha_arr,SQR_50,label = 'SQR')\n",
    "plt.plot(z_alpha_arr,POLY_50,label = 'POLY')\n",
    "plt.plot(z_alpha_arr,CEXP_50,label = 'CEXP')\n",
    "plt.plot(z_alpha_arr,z_alpha_arr,linestyle = '--')\n",
    "plt.legend()\n",
    "plt.savefig('mean_shift_ROC_curve.pdf')"
   ]
  },
  {
   "cell_type": "markdown",
   "metadata": {},
   "source": [
    "# 5. Synthetic Variance Shift Data, Shift in Single Frequency"
   ]
  },
  {
   "cell_type": "markdown",
   "metadata": {},
   "source": [
    "### Data is from Scenario B). of Section 4.1 of \"A Two Sample Distribution-Free Test for Functional Data with Application to a Diffusion Tensor Imaging Study of Multiple Sclerosis\" by Pomann et al, JRSSB 2016"
   ]
  },
  {
   "cell_type": "code",
   "execution_count": 8,
   "metadata": {},
   "outputs": [],
   "source": [
    "def variance_shift_single_freq(n_samples,obs_grid,delta = 0, sd = np.sqrt(0.25),random_state = None):\n",
    "    \"\"\"\n",
    "    Data used for the single frequency variance shift test. \n",
    "    \n",
    "    Parameters:\n",
    "    n_samples - number of function samples to return\n",
    "    obs_grid - observation locations \n",
    "    delta - the coefficient of t^3\n",
    "    sd - the standard deviation of the observation noise\n",
    "    random_state - random seed\n",
    "    \n",
    "    \"\"\"\n",
    "    rng = np.random.RandomState(random_state)\n",
    "    n_points = len(obs_grid)\n",
    "    X = (rng.normal(0,np.sqrt(10+delta),(n_samples,1))*np.sqrt(2)*np.sin(2*np.pi*obs_grid)) + (rng.normal(0,np.sqrt(5),(n_samples,1))*np.sqrt(2)*np.cos(2*np.pi*obs_grid))\n",
    "    X += rng.normal(0,sd,(n_samples,n_points))\n",
    "    return X"
   ]
  },
  {
   "cell_type": "code",
   "execution_count": 109,
   "metadata": {},
   "outputs": [],
   "source": [
    "# Set random seed\n",
    "rng_X = 5314\n",
    "rng_Y = 3895\n",
    "\n",
    "# Number of tests and permutations for the bootstrap per test\n",
    "n_tests = 500\n",
    "n_perms = 1000\n",
    "\n",
    "\n",
    "# Samples sizes for the two distributions\n",
    "M = 100\n",
    "N = 100\n",
    "\n",
    "# Range of parameters to test over\n",
    "delta_arr = np.array([0,5,10,15,20])\n",
    "\n",
    "# Grid of observation locations\n",
    "n_grid_points = 100\n",
    "obs_grid = np.linspace(0,1,n_grid_points)\n",
    "\n",
    "# Set bandwidth parameter, -1 causes median heuristic to be used\n",
    "gamma = -1"
   ]
  },
  {
   "cell_type": "code",
   "execution_count": 110,
   "metadata": {
    "collapsed": true
   },
   "outputs": [
    {
     "data": {
      "application/vnd.jupyter.widget-view+json": {
       "model_id": "cd2ddd08ea884b658ea07d3fa3952911",
       "version_major": 2,
       "version_minor": 0
      },
      "text/plain": [
       "HBox(children=(IntProgress(value=0, max=5), HTML(value='')))"
      ]
     },
     "metadata": {},
     "output_type": "display_data"
    },
    {
     "data": {
      "application/vnd.jupyter.widget-view+json": {
       "model_id": "dea92ab8096646c28db0c19908d92fad",
       "version_major": 2,
       "version_minor": 0
      },
      "text/plain": [
       "HBox(children=(IntProgress(value=0, max=500), HTML(value='')))"
      ]
     },
     "metadata": {},
     "output_type": "display_data"
    },
    {
     "name": "stdout",
     "output_type": "stream",
     "text": [
      "0 0.064\n"
     ]
    },
    {
     "data": {
      "application/vnd.jupyter.widget-view+json": {
       "model_id": "6d0f938284864326b0bb2f7f3bc57658",
       "version_major": 2,
       "version_minor": 0
      },
      "text/plain": [
       "HBox(children=(IntProgress(value=0, max=500), HTML(value='')))"
      ]
     },
     "metadata": {},
     "output_type": "display_data"
    },
    {
     "name": "stdout",
     "output_type": "stream",
     "text": [
      "5 0.182\n"
     ]
    },
    {
     "data": {
      "application/vnd.jupyter.widget-view+json": {
       "model_id": "d7c8ae0b17684cb6882900871f59f995",
       "version_major": 2,
       "version_minor": 0
      },
      "text/plain": [
       "HBox(children=(IntProgress(value=0, max=500), HTML(value='')))"
      ]
     },
     "metadata": {},
     "output_type": "display_data"
    },
    {
     "name": "stdout",
     "output_type": "stream",
     "text": [
      "10 0.526\n"
     ]
    },
    {
     "data": {
      "application/vnd.jupyter.widget-view+json": {
       "model_id": "5c2aa0689ca04f3d8680ade0a748fb8e",
       "version_major": 2,
       "version_minor": 0
      },
      "text/plain": [
       "HBox(children=(IntProgress(value=0, max=500), HTML(value='')))"
      ]
     },
     "metadata": {},
     "output_type": "display_data"
    },
    {
     "name": "stdout",
     "output_type": "stream",
     "text": [
      "15 0.838\n"
     ]
    },
    {
     "data": {
      "application/vnd.jupyter.widget-view+json": {
       "model_id": "b7f57437920144828c342e9fb1e68ef0",
       "version_major": 2,
       "version_minor": 0
      },
      "text/plain": [
       "HBox(children=(IntProgress(value=0, max=500), HTML(value='')))"
      ]
     },
     "metadata": {},
     "output_type": "display_data"
    },
    {
     "ename": "KeyboardInterrupt",
     "evalue": "",
     "output_type": "error",
     "traceback": [
      "\u001b[0;31m---------------------------------------------------------------------------\u001b[0m",
      "\u001b[0;31mKeyboardInterrupt\u001b[0m                         Traceback (most recent call last)",
      "\u001b[0;32m<ipython-input-110-534f51fbd96d>\u001b[0m in \u001b[0;36m<module>\u001b[0;34m\u001b[0m\n\u001b[1;32m     18\u001b[0m \u001b[0;34m\u001b[0m\u001b[0m\n\u001b[1;32m     19\u001b[0m     \u001b[0;31m# Calculate and store power for this choice the delta\u001b[0m\u001b[0;34m\u001b[0m\u001b[0;34m\u001b[0m\u001b[0;34m\u001b[0m\u001b[0m\n\u001b[0;32m---> 20\u001b[0;31m     \u001b[0mvar_shift_powers\u001b[0m\u001b[0;34m[\u001b[0m\u001b[0mi\u001b[0m\u001b[0;34m]\u001b[0m \u001b[0;34m=\u001b[0m \u001b[0mpower_test\u001b[0m\u001b[0;34m(\u001b[0m\u001b[0mX\u001b[0m\u001b[0;34m,\u001b[0m\u001b[0mY\u001b[0m\u001b[0;34m,\u001b[0m\u001b[0mgamma\u001b[0m\u001b[0;34m,\u001b[0m\u001b[0mn_tests\u001b[0m\u001b[0;34m,\u001b[0m\u001b[0mn_perms\u001b[0m\u001b[0;34m,\u001b[0m\u001b[0mmake_K\u001b[0m \u001b[0;34m=\u001b[0m \u001b[0mK_FPCA\u001b[0m\u001b[0;34m)\u001b[0m\u001b[0;34m\u001b[0m\u001b[0;34m\u001b[0m\u001b[0m\n\u001b[0m\u001b[1;32m     21\u001b[0m     \u001b[0mprint\u001b[0m\u001b[0;34m(\u001b[0m\u001b[0mdelta\u001b[0m\u001b[0;34m,\u001b[0m \u001b[0mvar_shift_powers\u001b[0m\u001b[0;34m[\u001b[0m\u001b[0mi\u001b[0m\u001b[0;34m]\u001b[0m\u001b[0;34m)\u001b[0m\u001b[0;34m\u001b[0m\u001b[0;34m\u001b[0m\u001b[0m\n",
      "\u001b[0;32m<ipython-input-11-b4ece97c1fc7>\u001b[0m in \u001b[0;36mpower_test\u001b[0;34m(X_samples, Y_samples, gamma, n_tests, n_perms, z_alpha, make_K, return_p)\u001b[0m\n\u001b[1;32m     26\u001b[0m         \u001b[0mX_t\u001b[0m \u001b[0;34m=\u001b[0m \u001b[0mX_samples\u001b[0m\u001b[0;34m[\u001b[0m\u001b[0mt\u001b[0m\u001b[0;34m*\u001b[0m\u001b[0mM\u001b[0m\u001b[0;34m:\u001b[0m\u001b[0;34m(\u001b[0m\u001b[0mt\u001b[0m\u001b[0;34m+\u001b[0m\u001b[0;36m1\u001b[0m\u001b[0;34m)\u001b[0m\u001b[0;34m*\u001b[0m\u001b[0mM\u001b[0m\u001b[0;34m,\u001b[0m\u001b[0;34m:\u001b[0m\u001b[0;34m]\u001b[0m\u001b[0;34m\u001b[0m\u001b[0;34m\u001b[0m\u001b[0m\n\u001b[1;32m     27\u001b[0m         \u001b[0mY_t\u001b[0m \u001b[0;34m=\u001b[0m \u001b[0mY_samples\u001b[0m\u001b[0;34m[\u001b[0m\u001b[0mt\u001b[0m\u001b[0;34m*\u001b[0m\u001b[0mN\u001b[0m\u001b[0;34m:\u001b[0m\u001b[0;34m(\u001b[0m\u001b[0mt\u001b[0m\u001b[0;34m+\u001b[0m\u001b[0;36m1\u001b[0m\u001b[0;34m)\u001b[0m\u001b[0;34m*\u001b[0m\u001b[0mN\u001b[0m\u001b[0;34m,\u001b[0m\u001b[0;34m:\u001b[0m\u001b[0;34m]\u001b[0m\u001b[0;34m\u001b[0m\u001b[0;34m\u001b[0m\u001b[0m\n\u001b[0;32m---> 28\u001b[0;31m         \u001b[0mrej\u001b[0m\u001b[0;34m[\u001b[0m\u001b[0mt\u001b[0m\u001b[0;34m]\u001b[0m \u001b[0;34m=\u001b[0m \u001b[0mtwo_sample_test\u001b[0m\u001b[0;34m(\u001b[0m\u001b[0mX_t\u001b[0m\u001b[0;34m,\u001b[0m\u001b[0mY_t\u001b[0m\u001b[0;34m,\u001b[0m\u001b[0mgamma\u001b[0m\u001b[0;34m,\u001b[0m\u001b[0mn_perms\u001b[0m\u001b[0;34m,\u001b[0m\u001b[0mz_alpha\u001b[0m \u001b[0;34m=\u001b[0m \u001b[0mz_alpha\u001b[0m\u001b[0;34m,\u001b[0m\u001b[0mmake_K\u001b[0m \u001b[0;34m=\u001b[0m \u001b[0mmake_K\u001b[0m\u001b[0;34m,\u001b[0m\u001b[0mreturn_p\u001b[0m \u001b[0;34m=\u001b[0m \u001b[0mreturn_p\u001b[0m\u001b[0;34m)\u001b[0m\u001b[0;34m\u001b[0m\u001b[0;34m\u001b[0m\u001b[0m\n\u001b[0m\u001b[1;32m     29\u001b[0m \u001b[0;34m\u001b[0m\u001b[0m\n\u001b[1;32m     30\u001b[0m     \u001b[0;31m# Compute average rate of rejection\u001b[0m\u001b[0;34m\u001b[0m\u001b[0;34m\u001b[0m\u001b[0;34m\u001b[0m\u001b[0m\n",
      "\u001b[0;32m<ipython-input-5-0db6c205b098>\u001b[0m in \u001b[0;36mtwo_sample_test\u001b[0;34m(X, Y, gamma, n_perms, z_alpha, make_K, return_p)\u001b[0m\n\u001b[1;32m     31\u001b[0m     \u001b[0;32mfor\u001b[0m \u001b[0mi\u001b[0m \u001b[0;32min\u001b[0m \u001b[0mrange\u001b[0m\u001b[0;34m(\u001b[0m\u001b[0mn_perms\u001b[0m\u001b[0;34m)\u001b[0m\u001b[0;34m:\u001b[0m\u001b[0;34m\u001b[0m\u001b[0;34m\u001b[0m\u001b[0m\n\u001b[1;32m     32\u001b[0m             \u001b[0midx\u001b[0m \u001b[0;34m=\u001b[0m \u001b[0mnp\u001b[0m\u001b[0;34m.\u001b[0m\u001b[0mrandom\u001b[0m\u001b[0;34m.\u001b[0m\u001b[0mpermutation\u001b[0m\u001b[0;34m(\u001b[0m\u001b[0mM\u001b[0m\u001b[0;34m+\u001b[0m\u001b[0mN\u001b[0m\u001b[0;34m)\u001b[0m\u001b[0;34m\u001b[0m\u001b[0;34m\u001b[0m\u001b[0m\n\u001b[0;32m---> 33\u001b[0;31m             \u001b[0mK\u001b[0m \u001b[0;34m=\u001b[0m \u001b[0mK\u001b[0m\u001b[0;34m[\u001b[0m\u001b[0midx\u001b[0m\u001b[0;34m,\u001b[0m \u001b[0midx\u001b[0m\u001b[0;34m[\u001b[0m\u001b[0;34m:\u001b[0m\u001b[0;34m,\u001b[0m \u001b[0;32mNone\u001b[0m\u001b[0;34m]\u001b[0m\u001b[0;34m]\u001b[0m\u001b[0;34m\u001b[0m\u001b[0;34m\u001b[0m\u001b[0m\n\u001b[0m\u001b[1;32m     34\u001b[0m             \u001b[0mshuffled_tests\u001b[0m\u001b[0;34m[\u001b[0m\u001b[0mi\u001b[0m\u001b[0;34m]\u001b[0m \u001b[0;34m=\u001b[0m \u001b[0mMMD_K\u001b[0m\u001b[0;34m(\u001b[0m\u001b[0mK\u001b[0m\u001b[0;34m,\u001b[0m\u001b[0mM\u001b[0m\u001b[0;34m,\u001b[0m\u001b[0mN\u001b[0m\u001b[0;34m)\u001b[0m\u001b[0;34m\u001b[0m\u001b[0;34m\u001b[0m\u001b[0m\n\u001b[1;32m     35\u001b[0m \u001b[0;34m\u001b[0m\u001b[0m\n",
      "\u001b[0;31mKeyboardInterrupt\u001b[0m: "
     ]
    }
   ],
   "source": [
    "var_shift_powers = np.zeros(len(delta_arr)) \n",
    "# Loop over delta values\n",
    "for i,delta in enumerate(tqdm(delta_arr)):\n",
    "    # Generate the data\n",
    "    X = variance_shift_single_freq(M*n_tests,obs_grid,delta = 0,sd = np.sqrt(0.25),random_state = rng_X)\n",
    "    Y = variance_shift_single_freq(N*n_tests,obs_grid,delta = delta,sd = np.sqrt(0.25),random_state = rng_Y)\n",
    "    \n",
    "    # For each of the different scenarios ID, FPCA, SQR, CEXP, POLY alter the code as follows:\n",
    "    # ID: Use K_ID in power_test\n",
    "    # FPCA: Use K_FPCA in power_test\n",
    "    # SQR: Use K_SQR in power_test\n",
    "    # CEXP: Run the two following lines before using K_ID in power_test, for given values of n_freqs and l\n",
    "    # X = CEXP(X,n_freqs,l) \n",
    "    # Y = CEXP(Y,n_freqs,l) \n",
    "    # POLY: Run the two following lines before using K_ID in power_test\n",
    "    # X = POLY(X) \n",
    "    # Y = POLY(Y) \n",
    "    \n",
    "    # Calculate and store power for this choice the delta\n",
    "    var_shift_powers[i] = power_test(X,Y,gamma,n_tests,n_perms,make_K = K_FPCA)\n",
    "    print(delta, var_shift_powers[i])"
   ]
  },
  {
   "cell_type": "code",
   "execution_count": 40,
   "metadata": {},
   "outputs": [
    {
     "data": {
      "text/plain": [
       "[<matplotlib.lines.Line2D at 0x13a0553c8>]"
      ]
     },
     "execution_count": 40,
     "metadata": {},
     "output_type": "execute_result"
    },
    {
     "data": {
      "image/png": "[encoded data removed]",
      "text/plain": [
       "<Figure size 432x288 with 1 Axes>"
      ]
     },
     "metadata": {
      "needs_background": "light"
     },
     "output_type": "display_data"
    }
   ],
   "source": [
    "plt.plot(delta_arr,var_shift_powers)"
   ]
  },
  {
   "cell_type": "markdown",
   "metadata": {},
   "source": [
    "# 6. Synthetic Variance Shift Data, Scalar Difference on all Frequencies"
   ]
  },
  {
   "cell_type": "markdown",
   "metadata": {},
   "source": [
    "### Data is from Section 3.1 of \"Bootstrap-based testing of equality of mean functions or equality of covariance operators for functional data\" by Paparoditis and Sapatinas, Biometrika 2016"
   ]
  },
  {
   "cell_type": "code",
   "execution_count": 113,
   "metadata": {},
   "outputs": [],
   "source": [
    "def variance_scalar_difference(n_samples,obs_grid,delta = 1,random_state = None):\n",
    "    \"\"\"\n",
    "    Data used for the sclar multiple difference variance test. \n",
    "    \n",
    "    Parameters:\n",
    "    n_samples - number of function samples to return\n",
    "    obs_grid - observation locations \n",
    "    delta - the scalar which the function is multiplied by\n",
    "    random_state - random seed\n",
    "    \n",
    "    \"\"\"\n",
    "    rng = np.random.RandomState(random_state)\n",
    "    n_obs = len(obs_grid)\n",
    "    t_vals = t.rvs(df = 5,size = (n_samples,2),random_state = rng)\n",
    "    n_points = len(obs_grid)\n",
    "    X = np.zeros((n_samples,n_obs))\n",
    "    for i in range(n_samples):\n",
    "        X[i,:] = np.sum([np.sqrt(2)*(k**(-0.5))*np.sin(np.pi*k*obs_grid)*t_vals[i,0] + (k**(-0.5))*np.cos(np.pi*k*obs_grid)*t_vals[i,1] for k in range(1,11)],axis=0)\n",
    "    return delta*X"
   ]
  },
  {
   "cell_type": "code",
   "execution_count": 114,
   "metadata": {},
   "outputs": [],
   "source": [
    "# Set random seed\n",
    "rng_X = 5314\n",
    "rng_Y = 3895\n",
    "\n",
    "# Number of tests and permutations for the bootstrap per test\n",
    "n_tests = 500\n",
    "n_perms = 1000\n",
    "\n",
    "# Samples sizes for the two distributions\n",
    "M = 25\n",
    "N = 25\n",
    "\n",
    "# Range of parameters to test over\n",
    "delta_arr = np.array([1,1.2,1.4,1.6,1.8,2])\n",
    "\n",
    "# Grid of observation locations\n",
    "n_grid_points = 500\n",
    "obs_grid = np.linspace(0,1,n_grid_points)\n",
    "\n",
    "# Set bandwidth parameter, -1 causes median heuristic to be used\n",
    "gamma = -1"
   ]
  },
  {
   "cell_type": "code",
   "execution_count": 115,
   "metadata": {
    "collapsed": true
   },
   "outputs": [
    {
     "data": {
      "application/vnd.jupyter.widget-view+json": {
       "model_id": "37768439984a45439ba937602ee1cc51",
       "version_major": 2,
       "version_minor": 0
      },
      "text/plain": [
       "HBox(children=(IntProgress(value=0, max=6), HTML(value='')))"
      ]
     },
     "metadata": {},
     "output_type": "display_data"
    },
    {
     "data": {
      "application/vnd.jupyter.widget-view+json": {
       "model_id": "897b6397a5294c53a273c84aca14df02",
       "version_major": 2,
       "version_minor": 0
      },
      "text/plain": [
       "HBox(children=(IntProgress(value=0, max=500), HTML(value='')))"
      ]
     },
     "metadata": {},
     "output_type": "display_data"
    },
    {
     "name": "stdout",
     "output_type": "stream",
     "text": [
      "1.0 0.048\n"
     ]
    },
    {
     "data": {
      "application/vnd.jupyter.widget-view+json": {
       "model_id": "a7068b815a7d4417afcb4a509163d734",
       "version_major": 2,
       "version_minor": 0
      },
      "text/plain": [
       "HBox(children=(IntProgress(value=0, max=500), HTML(value='')))"
      ]
     },
     "metadata": {},
     "output_type": "display_data"
    },
    {
     "name": "stdout",
     "output_type": "stream",
     "text": [
      "1.2 0.078\n"
     ]
    },
    {
     "data": {
      "application/vnd.jupyter.widget-view+json": {
       "model_id": "6651d25c5f2047c2b951628350108f19",
       "version_major": 2,
       "version_minor": 0
      },
      "text/plain": [
       "HBox(children=(IntProgress(value=0, max=500), HTML(value='')))"
      ]
     },
     "metadata": {},
     "output_type": "display_data"
    },
    {
     "name": "stdout",
     "output_type": "stream",
     "text": [
      "1.4 0.142\n"
     ]
    },
    {
     "data": {
      "application/vnd.jupyter.widget-view+json": {
       "model_id": "45b284897fa445128a96c5c886adb892",
       "version_major": 2,
       "version_minor": 0
      },
      "text/plain": [
       "HBox(children=(IntProgress(value=0, max=500), HTML(value='')))"
      ]
     },
     "metadata": {},
     "output_type": "display_data"
    },
    {
     "name": "stdout",
     "output_type": "stream",
     "text": [
      "1.6 0.272\n"
     ]
    },
    {
     "data": {
      "application/vnd.jupyter.widget-view+json": {
       "model_id": "f14712bbf0b149629c2f12a3d29f91a8",
       "version_major": 2,
       "version_minor": 0
      },
      "text/plain": [
       "HBox(children=(IntProgress(value=0, max=500), HTML(value='')))"
      ]
     },
     "metadata": {},
     "output_type": "display_data"
    },
    {
     "name": "stdout",
     "output_type": "stream",
     "text": [
      "1.8 0.416\n"
     ]
    },
    {
     "data": {
      "application/vnd.jupyter.widget-view+json": {
       "model_id": "cc50a9bcfe804bcaaea86ea925eb5448",
       "version_major": 2,
       "version_minor": 0
      },
      "text/plain": [
       "HBox(children=(IntProgress(value=0, max=500), HTML(value='')))"
      ]
     },
     "metadata": {},
     "output_type": "display_data"
    },
    {
     "ename": "KeyboardInterrupt",
     "evalue": "",
     "output_type": "error",
     "traceback": [
      "\u001b[0;31m---------------------------------------------------------------------------\u001b[0m",
      "\u001b[0;31mKeyboardInterrupt\u001b[0m                         Traceback (most recent call last)",
      "\u001b[0;32m<ipython-input-115-09c70b89e7f9>\u001b[0m in \u001b[0;36m<module>\u001b[0;34m\u001b[0m\n\u001b[1;32m     19\u001b[0m \u001b[0;34m\u001b[0m\u001b[0m\n\u001b[1;32m     20\u001b[0m     \u001b[0;31m# Calculate and store power for this choice the delta\u001b[0m\u001b[0;34m\u001b[0m\u001b[0;34m\u001b[0m\u001b[0;34m\u001b[0m\u001b[0m\n\u001b[0;32m---> 21\u001b[0;31m     \u001b[0mvar_shift_powers\u001b[0m\u001b[0;34m[\u001b[0m\u001b[0mi\u001b[0m\u001b[0;34m]\u001b[0m \u001b[0;34m=\u001b[0m \u001b[0mpower_test\u001b[0m\u001b[0;34m(\u001b[0m\u001b[0mX\u001b[0m\u001b[0;34m,\u001b[0m\u001b[0mY\u001b[0m\u001b[0;34m,\u001b[0m\u001b[0mgamma\u001b[0m\u001b[0;34m,\u001b[0m\u001b[0mn_tests\u001b[0m\u001b[0;34m,\u001b[0m\u001b[0mn_perms\u001b[0m\u001b[0;34m,\u001b[0m\u001b[0mmake_K\u001b[0m \u001b[0;34m=\u001b[0m \u001b[0mK_FPCA\u001b[0m\u001b[0;34m)\u001b[0m\u001b[0;34m\u001b[0m\u001b[0;34m\u001b[0m\u001b[0m\n\u001b[0m\u001b[1;32m     22\u001b[0m     \u001b[0mprint\u001b[0m\u001b[0;34m(\u001b[0m\u001b[0mdelta\u001b[0m\u001b[0;34m,\u001b[0m \u001b[0mvar_shift_powers\u001b[0m\u001b[0;34m[\u001b[0m\u001b[0mi\u001b[0m\u001b[0;34m]\u001b[0m\u001b[0;34m)\u001b[0m\u001b[0;34m\u001b[0m\u001b[0;34m\u001b[0m\u001b[0m\n",
      "\u001b[0;32m<ipython-input-11-b4ece97c1fc7>\u001b[0m in \u001b[0;36mpower_test\u001b[0;34m(X_samples, Y_samples, gamma, n_tests, n_perms, z_alpha, make_K, return_p)\u001b[0m\n\u001b[1;32m     26\u001b[0m         \u001b[0mX_t\u001b[0m \u001b[0;34m=\u001b[0m \u001b[0mX_samples\u001b[0m\u001b[0;34m[\u001b[0m\u001b[0mt\u001b[0m\u001b[0;34m*\u001b[0m\u001b[0mM\u001b[0m\u001b[0;34m:\u001b[0m\u001b[0;34m(\u001b[0m\u001b[0mt\u001b[0m\u001b[0;34m+\u001b[0m\u001b[0;36m1\u001b[0m\u001b[0;34m)\u001b[0m\u001b[0;34m*\u001b[0m\u001b[0mM\u001b[0m\u001b[0;34m,\u001b[0m\u001b[0;34m:\u001b[0m\u001b[0;34m]\u001b[0m\u001b[0;34m\u001b[0m\u001b[0;34m\u001b[0m\u001b[0m\n\u001b[1;32m     27\u001b[0m         \u001b[0mY_t\u001b[0m \u001b[0;34m=\u001b[0m \u001b[0mY_samples\u001b[0m\u001b[0;34m[\u001b[0m\u001b[0mt\u001b[0m\u001b[0;34m*\u001b[0m\u001b[0mN\u001b[0m\u001b[0;34m:\u001b[0m\u001b[0;34m(\u001b[0m\u001b[0mt\u001b[0m\u001b[0;34m+\u001b[0m\u001b[0;36m1\u001b[0m\u001b[0;34m)\u001b[0m\u001b[0;34m*\u001b[0m\u001b[0mN\u001b[0m\u001b[0;34m,\u001b[0m\u001b[0;34m:\u001b[0m\u001b[0;34m]\u001b[0m\u001b[0;34m\u001b[0m\u001b[0;34m\u001b[0m\u001b[0m\n\u001b[0;32m---> 28\u001b[0;31m         \u001b[0mrej\u001b[0m\u001b[0;34m[\u001b[0m\u001b[0mt\u001b[0m\u001b[0;34m]\u001b[0m \u001b[0;34m=\u001b[0m \u001b[0mtwo_sample_test\u001b[0m\u001b[0;34m(\u001b[0m\u001b[0mX_t\u001b[0m\u001b[0;34m,\u001b[0m\u001b[0mY_t\u001b[0m\u001b[0;34m,\u001b[0m\u001b[0mgamma\u001b[0m\u001b[0;34m,\u001b[0m\u001b[0mn_perms\u001b[0m\u001b[0;34m,\u001b[0m\u001b[0mz_alpha\u001b[0m \u001b[0;34m=\u001b[0m \u001b[0mz_alpha\u001b[0m\u001b[0;34m,\u001b[0m\u001b[0mmake_K\u001b[0m \u001b[0;34m=\u001b[0m \u001b[0mmake_K\u001b[0m\u001b[0;34m,\u001b[0m\u001b[0mreturn_p\u001b[0m \u001b[0;34m=\u001b[0m \u001b[0mreturn_p\u001b[0m\u001b[0;34m)\u001b[0m\u001b[0;34m\u001b[0m\u001b[0;34m\u001b[0m\u001b[0m\n\u001b[0m\u001b[1;32m     29\u001b[0m \u001b[0;34m\u001b[0m\u001b[0m\n\u001b[1;32m     30\u001b[0m     \u001b[0;31m# Compute average rate of rejection\u001b[0m\u001b[0;34m\u001b[0m\u001b[0;34m\u001b[0m\u001b[0;34m\u001b[0m\u001b[0m\n",
      "\u001b[0;32m<ipython-input-5-0db6c205b098>\u001b[0m in \u001b[0;36mtwo_sample_test\u001b[0;34m(X, Y, gamma, n_perms, z_alpha, make_K, return_p)\u001b[0m\n\u001b[1;32m     32\u001b[0m             \u001b[0midx\u001b[0m \u001b[0;34m=\u001b[0m \u001b[0mnp\u001b[0m\u001b[0;34m.\u001b[0m\u001b[0mrandom\u001b[0m\u001b[0;34m.\u001b[0m\u001b[0mpermutation\u001b[0m\u001b[0;34m(\u001b[0m\u001b[0mM\u001b[0m\u001b[0;34m+\u001b[0m\u001b[0mN\u001b[0m\u001b[0;34m)\u001b[0m\u001b[0;34m\u001b[0m\u001b[0;34m\u001b[0m\u001b[0m\n\u001b[1;32m     33\u001b[0m             \u001b[0mK\u001b[0m \u001b[0;34m=\u001b[0m \u001b[0mK\u001b[0m\u001b[0;34m[\u001b[0m\u001b[0midx\u001b[0m\u001b[0;34m,\u001b[0m \u001b[0midx\u001b[0m\u001b[0;34m[\u001b[0m\u001b[0;34m:\u001b[0m\u001b[0;34m,\u001b[0m \u001b[0;32mNone\u001b[0m\u001b[0;34m]\u001b[0m\u001b[0;34m]\u001b[0m\u001b[0;34m\u001b[0m\u001b[0;34m\u001b[0m\u001b[0m\n\u001b[0;32m---> 34\u001b[0;31m             \u001b[0mshuffled_tests\u001b[0m\u001b[0;34m[\u001b[0m\u001b[0mi\u001b[0m\u001b[0;34m]\u001b[0m \u001b[0;34m=\u001b[0m \u001b[0mMMD_K\u001b[0m\u001b[0;34m(\u001b[0m\u001b[0mK\u001b[0m\u001b[0;34m,\u001b[0m\u001b[0mM\u001b[0m\u001b[0;34m,\u001b[0m\u001b[0mN\u001b[0m\u001b[0;34m)\u001b[0m\u001b[0;34m\u001b[0m\u001b[0;34m\u001b[0m\u001b[0m\n\u001b[0m\u001b[1;32m     35\u001b[0m \u001b[0;34m\u001b[0m\u001b[0m\n\u001b[1;32m     36\u001b[0m     \u001b[0;31m# Threshold of the null calculated and test is rejected if empirical MMD^{2} of the data\u001b[0m\u001b[0;34m\u001b[0m\u001b[0;34m\u001b[0m\u001b[0;34m\u001b[0m\u001b[0m\n",
      "\u001b[0;32m<ipython-input-4-4d35b64c0b40>\u001b[0m in \u001b[0;36mMMD_K\u001b[0;34m(K, M, N)\u001b[0m\n\u001b[1;32m     18\u001b[0m     \u001b[0mt1\u001b[0m \u001b[0;34m=\u001b[0m \u001b[0;34m(\u001b[0m\u001b[0;36m1.\u001b[0m\u001b[0;34m/\u001b[0m\u001b[0;34m(\u001b[0m\u001b[0mM\u001b[0m\u001b[0;34m*\u001b[0m\u001b[0;34m(\u001b[0m\u001b[0mM\u001b[0m\u001b[0;34m-\u001b[0m\u001b[0;36m1\u001b[0m\u001b[0;34m)\u001b[0m\u001b[0;34m)\u001b[0m\u001b[0;34m)\u001b[0m\u001b[0;34m*\u001b[0m\u001b[0mnp\u001b[0m\u001b[0;34m.\u001b[0m\u001b[0msum\u001b[0m\u001b[0;34m(\u001b[0m\u001b[0mKxx\u001b[0m \u001b[0;34m-\u001b[0m \u001b[0mnp\u001b[0m\u001b[0;34m.\u001b[0m\u001b[0mdiag\u001b[0m\u001b[0;34m(\u001b[0m\u001b[0mnp\u001b[0m\u001b[0;34m.\u001b[0m\u001b[0mdiagonal\u001b[0m\u001b[0;34m(\u001b[0m\u001b[0mKxx\u001b[0m\u001b[0;34m)\u001b[0m\u001b[0;34m)\u001b[0m\u001b[0;34m)\u001b[0m\u001b[0;34m\u001b[0m\u001b[0;34m\u001b[0m\u001b[0m\n\u001b[1;32m     19\u001b[0m     \u001b[0mt2\u001b[0m \u001b[0;34m=\u001b[0m \u001b[0;34m(\u001b[0m\u001b[0;36m2.\u001b[0m\u001b[0;34m/\u001b[0m\u001b[0;34m(\u001b[0m\u001b[0mM\u001b[0m\u001b[0;34m*\u001b[0m\u001b[0mN\u001b[0m\u001b[0;34m)\u001b[0m\u001b[0;34m)\u001b[0m \u001b[0;34m*\u001b[0m \u001b[0mnp\u001b[0m\u001b[0;34m.\u001b[0m\u001b[0msum\u001b[0m\u001b[0;34m(\u001b[0m\u001b[0mKxy\u001b[0m\u001b[0;34m)\u001b[0m\u001b[0;34m\u001b[0m\u001b[0;34m\u001b[0m\u001b[0m\n\u001b[0;32m---> 20\u001b[0;31m     \u001b[0mt3\u001b[0m \u001b[0;34m=\u001b[0m \u001b[0;34m(\u001b[0m\u001b[0;36m1.\u001b[0m\u001b[0;34m/\u001b[0m\u001b[0;34m(\u001b[0m\u001b[0mN\u001b[0m\u001b[0;34m*\u001b[0m\u001b[0;34m(\u001b[0m\u001b[0mN\u001b[0m\u001b[0;34m-\u001b[0m\u001b[0;36m1\u001b[0m\u001b[0;34m)\u001b[0m\u001b[0;34m)\u001b[0m\u001b[0;34m)\u001b[0m\u001b[0;34m*\u001b[0m \u001b[0mnp\u001b[0m\u001b[0;34m.\u001b[0m\u001b[0msum\u001b[0m\u001b[0;34m(\u001b[0m\u001b[0mKyy\u001b[0m \u001b[0;34m-\u001b[0m \u001b[0mnp\u001b[0m\u001b[0;34m.\u001b[0m\u001b[0mdiag\u001b[0m\u001b[0;34m(\u001b[0m\u001b[0mnp\u001b[0m\u001b[0;34m.\u001b[0m\u001b[0mdiagonal\u001b[0m\u001b[0;34m(\u001b[0m\u001b[0mKyy\u001b[0m\u001b[0;34m)\u001b[0m\u001b[0;34m)\u001b[0m\u001b[0;34m)\u001b[0m\u001b[0;34m\u001b[0m\u001b[0;34m\u001b[0m\u001b[0m\n\u001b[0m\u001b[1;32m     21\u001b[0m \u001b[0;34m\u001b[0m\u001b[0m\n\u001b[1;32m     22\u001b[0m     \u001b[0mMMDsquared\u001b[0m \u001b[0;34m=\u001b[0m \u001b[0;34m(\u001b[0m\u001b[0mt1\u001b[0m\u001b[0;34m-\u001b[0m\u001b[0mt2\u001b[0m\u001b[0;34m+\u001b[0m\u001b[0mt3\u001b[0m\u001b[0;34m)\u001b[0m\u001b[0;34m\u001b[0m\u001b[0;34m\u001b[0m\u001b[0m\n",
      "\u001b[0;31mKeyboardInterrupt\u001b[0m: "
     ]
    }
   ],
   "source": [
    "var_shift_powers = np.zeros(len(delta_arr))\n",
    "\n",
    "# Loop over delta values\n",
    "for i,delta in enumerate(tqdm(delta_arr)):\n",
    "    # Generate the data\n",
    "    X = variance_scalar_difference(M*n_tests,obs_grid,random_state = rng_X)\n",
    "    Y = variance_scalar_difference(N*n_tests,obs_grid,delta = delta,random_state = rng_Y)\n",
    "    \n",
    "    # For each of the different scenarios ID, FPCA, SQR, CEXP, POLY alter the code as follows:\n",
    "    # ID: Use K_ID in power_test\n",
    "    # FPCA: Use K_FPCA in power_test\n",
    "    # SQR: Use K_SQR in power_test\n",
    "    # CEXP: Run the two following lines before using K_ID in power_test, for given values of n_freqs and l\n",
    "    # X = CEXP(X,n_freqs,l) \n",
    "    # Y = CEXP(Y,n_freqs,l) \n",
    "    # POLY: Run the two following lines before using K_ID in power_test\n",
    "    # X = POLY(X) \n",
    "    # Y = POLY(Y) \n",
    "    \n",
    "    # Calculate and store power for this choice the delta\n",
    "    var_shift_powers[i] = power_test(X,Y,gamma,n_tests,n_perms,make_K = K_FPCA)\n",
    "    print(delta, var_shift_powers[i])"
   ]
  },
  {
   "cell_type": "code",
   "execution_count": 48,
   "metadata": {},
   "outputs": [
    {
     "data": {
      "text/plain": [
       "[<matplotlib.lines.Line2D at 0x135ad9cf8>]"
      ]
     },
     "execution_count": 48,
     "metadata": {},
     "output_type": "execute_result"
    },
    {
     "data": {
      "image/png": "[encoded data removed]",
      "text/plain": [
       "<Figure size 432x288 with 1 Axes>"
      ]
     },
     "metadata": {
      "needs_background": "light"
     },
     "output_type": "display_data"
    }
   ],
   "source": [
    "plt.plot(delta_arr,var_shift_powers)"
   ]
  },
  {
   "cell_type": "markdown",
   "metadata": {},
   "source": [
    "# 7. Synthetic Higher Order Differences Data"
   ]
  },
  {
   "cell_type": "markdown",
   "metadata": {},
   "source": [
    "### Data is from Section 3.1 of \"Two-sample tests in functional data analysis starting from discrete data\" by Hall and Van Keilegom, Statistica Sinica 2007"
   ]
  },
  {
   "cell_type": "code",
   "execution_count": 55,
   "metadata": {},
   "outputs": [],
   "source": [
    "def higher_order_difference(n_samples,n_obs,delta = 1,sd = 0.1,uniform_samp = True,random_state = None):\n",
    "    \"\"\"\n",
    "    Higher order difference data is generated, including the random observation points sampling.\n",
    "    \n",
    "    Parameters:\n",
    "    n_samples - number of function samples to return\n",
    "    n_obs - number of observations per function sample \n",
    "    delta - the scalar which determines the deviation from the null\n",
    "    sd - standard deviation of observation noise\n",
    "    uniform_samp - Parameter to decide which random point sampling procedure to use for each function sample\n",
    "                     True is random uniform sampling on [0,1] \n",
    "                     False is random sampling using the density p(t) = 0.8 + 0.4*t on [0,1]\n",
    "    random_state - random seed\n",
    "    \n",
    "    Returns:\n",
    "    X - the generated random functions\n",
    "    obs_grid - observation point locations for each random function\n",
    "    \n",
    "    \"\"\"\n",
    "    rng = np.random.RandomState(random_state)\n",
    "    obs_grid = point_sample(n_samples,n_obs,uniform_samp=uniform_samp,random_state = random_state)\n",
    "    X = np.zeros((n_samples,n_obs))\n",
    "    for i,obs in enumerate(obs_grid):\n",
    "        rvs_1 = rng.normal(0,1,15)\n",
    "        rvs_2 = rng.normal(0,1,15)\n",
    "        X[i,:] = np.ones(n_obs)*(np.exp(-1/2)*rvs_1[0] + delta*rvs_2[0])\n",
    "        for k in range(2,16):\n",
    "            X[i,:] += np.exp(-k/2)*rvs_1[k-1]*np.sqrt(2)*np.sin((k-1)*np.pi*obs)\n",
    "            if k % 2 ==0:\n",
    "                X[i,:] += delta*(k**-2)*rvs_2[k-1]*np.sqrt(2)*np.cos((k-1)*np.pi*(2*obs - 1))\n",
    "            else:\n",
    "                X[i,:] += delta*(k**-2)*rvs_2[k-1]*np.sqrt(2)*np.sin((k-1)*np.pi*(2*obs - 1))\n",
    "        X[i,:] += rng.normal(0,sd,n_obs)\n",
    "    return X,obs_grid\n",
    "        \n",
    "\n",
    "def point_sample(n_samples,n_obs,uniform_samp = True,random_state = None):\n",
    "    \"\"\"\n",
    "    Random samples the observation points for each function sample\n",
    "    \n",
    "    Parameters:\n",
    "    n_samples - number of function samples\n",
    "    n_obs - number of observations per function sample\n",
    "    uniform_samp - Parameter to decide which random point sampling procedure to use for each function sample\n",
    "                     True is random uniform sampling on [0,1] \n",
    "                     False is random sampling using the density p(t) = 0.8 + 0.4*t on [0,1]\n",
    "    random_state - random seed\n",
    "    \n",
    "    Returns:\n",
    "    obs_points - observation point locations for each random function\n",
    "    \n",
    "    \"\"\"\n",
    "    rng = np.random.RandomState(random_state)\n",
    "    if n_samples > 1:\n",
    "        obs_grid = rng.uniform(0,1,(n_samples,n_obs))\n",
    "    else:\n",
    "        obs_grid = rng.uniform(0,1,n_samples).reshape(-1,1)\n",
    "    if uniform_samp:\n",
    "        obs_grid.sort(axis=1)\n",
    "        return obs_grid\n",
    "    else:\n",
    "        obs_grid = np.sqrt(4 + 5*obs_grid)-2\n",
    "        obs_grid.sort(axis=1)\n",
    "        return obs_grid"
   ]
  },
  {
   "cell_type": "markdown",
   "metadata": {},
   "source": [
    "### The next two cells are the code to fit curves (specifically Gaussian processes) to the observed functions and then obtain function values of the fitted curves from a regular grid of points. A Matern kernel is used "
   ]
  },
  {
   "cell_type": "code",
   "execution_count": 78,
   "metadata": {},
   "outputs": [],
   "source": [
    "def GP_regression_single_sample(X,obs_grid,pred_grid,nu = 1.5,alpha = 1):\n",
    "    \"\"\"\n",
    "    Given a single sample of functional data X at locations obs_grid, a GP is fit and predictions are\n",
    "    given at locations pred_grid\n",
    "    \n",
    "    X - single function sample\n",
    "    obs_grid - function sample observation locations\n",
    "    pred_grid - prediction locations\n",
    "    nu - Matern kernel smoothness parameter\n",
    "    alpha - smoothness penalty\n",
    "    \n",
    "    Returns:\n",
    "    The predictions of a Matern GP with parameters mu, alpha, at locations pred_grid\n",
    "    \"\"\"\n",
    "    kernel = gp.kernels.Matern(nu = nu)\n",
    "    GP = gp.GaussianProcessRegressor(kernel=kernel, n_restarts_optimizer=0, alpha=alpha,optimizer = None)\n",
    "    GP.fit(obs_grid, X)\n",
    "    return GP.predict(pred_grid)\n",
    "\n",
    "def GP_regression_multi_sample(X,obs_grid,pred_grid, nu = 1.5,alpha = 1):\n",
    "    \"\"\"\n",
    "    Given a multiple samples of functional data X, an array of corresponding observation locations obs_grid, \n",
    "    a GP is fit and predictions are given at locations pred_grid\n",
    "    \n",
    "    X - multiple function samples\n",
    "    obs_grid - function samples observation locations\n",
    "    pred_grid - prediction locations\n",
    "    nu - Matern kernel smoothness parameter\n",
    "    alpha - smoothness penalty\n",
    "    \n",
    "    Returns:\n",
    "    The predictions of a Matern GP with parameters mu, alpha, at locations pred_grid\n",
    "    \"\"\"\n",
    "    X_reg = np.zeros((X.shape[0],len(pred_grid)))\n",
    "    for j in range(X.shape[0]):\n",
    "        X_reg[j,:] = GP_regression_single_sample(X[j,:],obs_grid[j,:].reshape(-1,1),pred_grid,nu,alpha)\n",
    "    return X_reg"
   ]
  },
  {
   "cell_type": "code",
   "execution_count": 79,
   "metadata": {},
   "outputs": [],
   "source": [
    "# Set random seed\n",
    "rng_X = 5314\n",
    "rng_Y = 3895\n",
    "\n",
    "# Number of tests and permutations for the bootstrap per test\n",
    "n_tests = 500\n",
    "n_perms = 1000\n",
    "\n",
    "# Samples sizes for the two distributions\n",
    "M = 15\n",
    "N = 15\n",
    "\n",
    "# Range of parameters to test over\n",
    "delta_arr = np.array([0,1,2,3,4])\n",
    "\n",
    "# Number of observation locations of each sample\n",
    "n_obs = 20\n",
    "\n",
    "# Grid of prediction points when fitting curves\n",
    "n_preds = 100\n",
    "# reshape is used so the dimensions are correct for when fitting curves with a GP\n",
    "pred_grid = np.linspace(0,1,n_grid_points).reshape(-1,1)\n",
    "\n",
    "# Set bandwidth parameter, -1 causes median heuristic to be used\n",
    "gamma = -1"
   ]
  },
  {
   "cell_type": "code",
   "execution_count": 81,
   "metadata": {},
   "outputs": [
    {
     "data": {
      "application/vnd.jupyter.widget-view+json": {
       "model_id": "c6989588c4ed4c8a9a72e5ac3a8c09d5",
       "version_major": 2,
       "version_minor": 0
      },
      "text/plain": [
       "HBox(children=(IntProgress(value=0, max=5), HTML(value='')))"
      ]
     },
     "metadata": {},
     "output_type": "display_data"
    },
    {
     "name": "stdout",
     "output_type": "stream",
     "text": [
      "0 0.056\n",
      "1 0.278\n",
      "2 0.884\n",
      "3 0.996\n",
      "4 1.0\n"
     ]
    }
   ],
   "source": [
    "delta_powers = np.zeros(len(delta_arr))\n",
    "\n",
    "for i,delta in enumerate(tqdm(delta_arr)):\n",
    "    \n",
    "    X,obs_grid_X = higher_order_difference(M*n_tests,n_obs,delta = 0,sd = 0.1,uniform_samp=True,random_state = rng_X)\n",
    "    Y,obs_grid_Y = higher_order_difference(N*n_tests,n_obs,delta = delta,sd = 0.3,uniform_samp=False,random_state = rng_Y)\n",
    "    X = GP_regression_multi_sample(X,obs_grid_X,pred_grid,nu = 1.5,alpha = 0.001)\n",
    "    Y = GP_regression_multi_sample(Y,obs_grid_Y,pred_grid,nu = 1.5,alpha = 0.001)\n",
    "    \n",
    "    # For each of the different scenarios ID, FPCA, SQR, CEXP, POLY alter the code as follows:\n",
    "    # ID: Use K_ID in power_test\n",
    "    # FPCA: Use K_FPCA in power_test\n",
    "    # SQR: Use K_SQR in power_test\n",
    "    # CEXP: Run the two following lines before using K_ID in power_test, for given values of n_freqs and l\n",
    "    # X = CEXP(X,n_freqs,l) \n",
    "    # Y = CEXP(Y,n_freqs,l) \n",
    "    # POLY: Run the two following lines before using K_ID in power_test\n",
    "    # X = POLY(X) \n",
    "    # Y = POLY(Y) \n",
    "    \n",
    "    delta_powers[i] = power_test(X,Y,gamma,n_tests,n_perms,make_K = K_ID)\n",
    "    print(delta, delta_powers[i])"
   ]
  },
  {
   "cell_type": "code",
   "execution_count": 82,
   "metadata": {},
   "outputs": [
    {
     "data": {
      "text/plain": [
       "[<matplotlib.lines.Line2D at 0x1310290f0>]"
      ]
     },
     "execution_count": 82,
     "metadata": {},
     "output_type": "execute_result"
    },
    {
     "data": {
      "image/png": "[encoded data removed]",
      "text/plain": [
       "<Figure size 432x288 with 1 Axes>"
      ]
     },
     "metadata": {
      "needs_background": "light"
     },
     "output_type": "display_data"
    }
   ],
   "source": [
    "plt.plot(delta_arr,delta_powers)"
   ]
  },
  {
   "cell_type": "markdown",
   "metadata": {},
   "source": [
    "# 8. Berkeley Growth Data"
   ]
  },
  {
   "cell_type": "markdown",
   "metadata": {},
   "source": [
    "### Berkeley growth data is imported and then the power and size of the kernel two-sample test is empirically investigated. \n",
    "\n",
    "### To measure the test power subsamples from the two groups are taken and the test is performed, this is repeated to compute the power. \n",
    "\n",
    "### To measure the test size disjoint subsamples are taken from the female data set and the test is performed. "
   ]
  },
  {
   "cell_type": "code",
   "execution_count": 62,
   "metadata": {},
   "outputs": [],
   "source": [
    "def random_subsample(X,n_sub_samples,n_tests,random_state = None):\n",
    "    \"\"\"\n",
    "    For n_tests repeats, takes a random sub-sample without replacement from X of size n_sub_samples\n",
    "    \n",
    "    Parameters:\n",
    "    X - (n_samples,n_obs) array of function values\n",
    "    n_sub_samples - number of samples samples to take for each repeat\n",
    "    n_tests - number of tests to be later performed, meaning the number of time to take sub-samples\n",
    "    random_state - random seed\n",
    "    \n",
    "    Returns:\n",
    "    rand_samp - (n_sub_samples * n_tests, n_obs) array of randomly subsamples values of X grouped in \n",
    "                n_tests many batches of size n_sub_samples\n",
    "    \"\"\"\n",
    "    rand_samp = np.zeros((n_sub_samples*n_tests,X.shape[1]))\n",
    "    rng = np.random.RandomState(random_state)\n",
    "    X_copy = X.copy()\n",
    "    for i in range(n_tests):\n",
    "        rng.shuffle(X_copy)\n",
    "        rand_samp[i*n_sub_samples:(i+1)*n_sub_samples,:] = X_copy[:n_sub_samples]\n",
    "    return rand_samp\n",
    "\n",
    "def null_random_subsample(X,n_sub_samples,n_tests,random_state = None):\n",
    "    \"\"\"\n",
    "    For n_tests repeats, takes two disjoint random sub-samples without replacement from X of size n_sub_samples.\n",
    "    For each of the n_tests many sub-arrays of size n_sub_samples, the sub-arrays of the two outputs will be \n",
    "    disjoint, meaning the empirical size of the test can be estimated.\n",
    "    \n",
    "    Parameters:\n",
    "    X - (n_samples,n_obs) array of function values\n",
    "    n_sub_samples - number of samples samples to take for each repeat\n",
    "    n_tests - number of tests to be later performed, meaning the number of time to take sub-samples\n",
    "    random_state - random seed\n",
    "    \n",
    "    Returns:\n",
    "    rand_samp_1 - (n_sub_samples * n_tests, n_obs) array of randomly subsamples values of X grouped in \n",
    "                  n_tests many batches of size n_sub_samples\n",
    "    rand_samp_2 - (n_sub_samples * n_tests, n_obs) array of randomly subsamples values of X grouped in \n",
    "                  n_tests many batches of size n_sub_samples\n",
    "                \n",
    "    \"\"\"\n",
    "    \n",
    "    rand_samp_1 = np.zeros((n_sub_samples*n_tests,X.shape[1]))\n",
    "    rand_samp_2 = np.zeros((n_sub_samples*n_tests,X.shape[1]))\n",
    "    rng = np.random.RandomState(random_state)\n",
    "    X_copy = X.copy()\n",
    "    for i in range(n_tests):\n",
    "        rng.shuffle(X_copy)\n",
    "        rand_samp_1[i*n_sub_samples:(i+1)*n_sub_samples,:] = X_copy[:n_sub_samples]\n",
    "        rand_samp_2[i*n_sub_samples:(i+1)*n_sub_samples,:] = X_copy[n_sub_samples:2*n_sub_samples]\n",
    "    return rand_samp_1,rand_samp_2"
   ]
  },
  {
   "cell_type": "code",
   "execution_count": 84,
   "metadata": {},
   "outputs": [],
   "source": [
    "# Importing the Berkeley growth data, this will need to be changed given your own file path name\n",
    "growth_female = pd.read_csv(\"Berk_Data/berkeley_growth_female.csv\")\n",
    "del growth_female[growth_female.columns[0]]\n",
    "growth_female = np.array(growth_female.T)\n",
    "\n",
    "growth_male = pd.read_csv(\"Berk_Data/berkeley_growth_male.csv\")\n",
    "del growth_male[growth_male.columns[0]]\n",
    "growth_male = np.array(growth_male.T)"
   ]
  },
  {
   "cell_type": "code",
   "execution_count": 88,
   "metadata": {},
   "outputs": [],
   "source": [
    "# Random seeds, number of tests and permutations\n",
    "rng_X = 5314\n",
    "rng_Y = 3895\n",
    "n_tests = 500\n",
    "n_perms = 1000\n",
    "\n",
    "# Range of sample sizes\n",
    "samp_arr = np.array([5,15,25,35])\n",
    "\n",
    "# Set bandwidth parameter, -1 causes median heuristic to be used\n",
    "gamma = -1"
   ]
  },
  {
   "cell_type": "code",
   "execution_count": 89,
   "metadata": {},
   "outputs": [
    {
     "data": {
      "application/vnd.jupyter.widget-view+json": {
       "model_id": "8f2ccdc72054484f99acf3432d523bf6",
       "version_major": 2,
       "version_minor": 0
      },
      "text/plain": [
       "HBox(children=(IntProgress(value=0, max=4), HTML(value='')))"
      ]
     },
     "metadata": {},
     "output_type": "display_data"
    },
    {
     "name": "stdout",
     "output_type": "stream",
     "text": [
      "5 0.54\n",
      "15 1.0\n",
      "25 1.0\n",
      "35 1.0\n"
     ]
    }
   ],
   "source": [
    "samp_powers = np.zeros(len(samp_arr))\n",
    "\n",
    "# Iterates over every sample size in samp_arr\n",
    "for i,samp_size in enumerate(tqdm(samp_arr)):\n",
    "    # Extracts the random sub-samples\n",
    "    X = random_subsample(growth_male,samp_size,n_tests,random_state = rng_X)\n",
    "    Y = random_subsample(growth_female,samp_size,n_tests,random_state = rng_Y)\n",
    "    \n",
    "    # To compute the size instead of the power, replace the two lines above with the following line\n",
    "    #X,Y = null_random_subsample(growth_female,samp_size,n_tests,random_state = rng_X)\n",
    "    \n",
    "    # For each of the different scenarios ID, FPCA, SQR, CEXP, POLY alter the code as follows:\n",
    "    # ID: Use K_ID in power_test\n",
    "    # FPCA: Use K_FPCA in power_test\n",
    "    # SQR: Use K_SQR in power_test\n",
    "    # CEXP: Run the two following lines before using K_ID in power_test, for given values of n_freqs and l\n",
    "    # X = CEXP(X,n_freqs,l) \n",
    "    # Y = CEXP(Y,n_freqs,l) \n",
    "    # POLY: Run the two following lines before using K_ID in power_test\n",
    "    # X = POLY(X) \n",
    "    # Y = POLY(Y) \n",
    "    \n",
    "    samp_powers[i] = power_test(X,Y,gamma,n_tests,n_perms,make_K = K_ID)\n",
    "    print(samp_size,samp_powers[i])"
   ]
  },
  {
   "cell_type": "markdown",
   "metadata": {},
   "source": [
    "# 9. NEU Steel Data"
   ]
  },
  {
   "cell_type": "markdown",
   "metadata": {},
   "source": [
    "### The full NEU data set contains six classes of steel defect, we only use the \"Crazing\" and \"Rolled-in Scale\" classes and use the 200x200 pixel images."
   ]
  },
  {
   "cell_type": "code",
   "execution_count": 57,
   "metadata": {},
   "outputs": [],
   "source": [
    "#Function to read the 200 by 200 dataset\n",
    "def read200by200DS(directory, prefix):\n",
    "    arrays = []\n",
    "    for filename in os.listdir(directory):\n",
    "        if filename.startswith(prefix):\n",
    "            img_array = image.imread(directory+filename)\n",
    "            arrays = arrays + [img_array]\n",
    "        \n",
    "    return np.dstack(arrays) "
   ]
  },
  {
   "cell_type": "code",
   "execution_count": 64,
   "metadata": {},
   "outputs": [],
   "source": [
    "def make_k_mat(obs_grid,n_freqs = 20,l=np.sqrt(10)):\n",
    "    return np.array([[cos_exp_kernel(s,t,n_freqs = n_freqs,l=l) for s in obs_grid] for t in obs_grid])\n",
    "                     \n",
    "\n",
    "def CEXP_2D(X,n_freqs = 20,l=np.sqrt(10)):\n",
    "    \"\"\"\n",
    "    Transforms an array of function values using the integral operator induced by the \n",
    "    two-dimensional cos-exp kernel. The function values are assumed to be on [0,1]\n",
    "    \n",
    "    Parameters:\n",
    "    X - (n_samples,dim_1,dim_2) array of 2d data samples\n",
    "    n_freqs - number of frequencies to include in the sum\n",
    "    l - bandwidthlengthscale of the kernel\n",
    "    \n",
    "    Returns:\n",
    "    T - (n_samples,dim_1,dim_2) array of function values where each function has been passed\n",
    "                through the integral operator induced by the two dimensional cos-exp kernel\n",
    "    \"\"\"\n",
    "    T = np.zeros(X.shape)\n",
    "    n_obs = X.shape[1]\n",
    "    obs_grid = np.linspace(0,1,n_obs)\n",
    "    # k_mat is the matrix formed by the one dimensional cos-exp kernel, it is used for the Riemann\n",
    "    # approximation of the two dimensional L^2 integrals\n",
    "    k_mat = make_k_mat(obs_grid,n_freqs = n_freqs,l=l)\n",
    "    for i,x in enumerate(X):\n",
    "        # Riemann approximation of the two dimensional L^2 integral, k_mat appears twice as we are\n",
    "        # using the tensor product of two one dimensional cos-exp kernels\n",
    "        T[i,:,:] = (1/n_obs**2)*np.dot(np.dot(k_mat,x),k_mat)\n",
    "    return T          "
   ]
  },
  {
   "cell_type": "code",
   "execution_count": 72,
   "metadata": {},
   "outputs": [],
   "source": [
    "# Importing and formatting data, will need to be changed given your choice of file storage location\n",
    "topdir = 'steel_data/images200by200//'\n",
    "CR = read200by200DS(topdir, 'Cr')\n",
    "RS = read200by200DS(topdir, 'RS')\n",
    "CR = np.moveaxis(CR,2,0)\n",
    "RS = np.moveaxis(RS,2,0)"
   ]
  },
  {
   "cell_type": "code",
   "execution_count": 73,
   "metadata": {},
   "outputs": [],
   "source": [
    "# Random seeds, number of tests and permutations\n",
    "rng_X = 5314\n",
    "rng_Y = 3895\n",
    "n_tests = 500\n",
    "n_perms = 1000\n",
    "\n",
    "# Range of sample sizes\n",
    "samp_arr = np.array([10,20,30,40])\n",
    "\n",
    "# Set bandwidth parameter, -1 causes median heuristic to be used\n",
    "gamma = -1"
   ]
  },
  {
   "cell_type": "code",
   "execution_count": 74,
   "metadata": {
    "collapsed": true
   },
   "outputs": [
    {
     "data": {
      "application/vnd.jupyter.widget-view+json": {
       "model_id": "1c0e60eb16624adcb946e22850e3f641",
       "version_major": 2,
       "version_minor": 0
      },
      "text/plain": [
       "HBox(children=(IntProgress(value=0, max=4), HTML(value='')))"
      ]
     },
     "metadata": {},
     "output_type": "display_data"
    },
    {
     "data": {
      "application/vnd.jupyter.widget-view+json": {
       "model_id": "0b8f0f6539cd4cb28007ccef4fecfb28",
       "version_major": 2,
       "version_minor": 0
      },
      "text/plain": [
       "HBox(children=(IntProgress(value=0, max=500), HTML(value='')))"
      ]
     },
     "metadata": {},
     "output_type": "display_data"
    },
    {
     "name": "stdout",
     "output_type": "stream",
     "text": [
      "10 0.504\n"
     ]
    },
    {
     "data": {
      "application/vnd.jupyter.widget-view+json": {
       "model_id": "96daeeba55e24104bd1fd4f550f5f758",
       "version_major": 2,
       "version_minor": 0
      },
      "text/plain": [
       "HBox(children=(IntProgress(value=0, max=500), HTML(value='')))"
      ]
     },
     "metadata": {},
     "output_type": "display_data"
    },
    {
     "name": "stdout",
     "output_type": "stream",
     "text": [
      "20 0.888\n"
     ]
    },
    {
     "data": {
      "application/vnd.jupyter.widget-view+json": {
       "model_id": "067345e422534185ac5fae462b627a7c",
       "version_major": 2,
       "version_minor": 0
      },
      "text/plain": [
       "HBox(children=(IntProgress(value=0, max=500), HTML(value='')))"
      ]
     },
     "metadata": {},
     "output_type": "display_data"
    },
    {
     "name": "stdout",
     "output_type": "stream",
     "text": [
      "30 0.988\n"
     ]
    },
    {
     "data": {
      "application/vnd.jupyter.widget-view+json": {
       "model_id": "b812f5765a7f4a52b45525cf8bdf32d6",
       "version_major": 2,
       "version_minor": 0
      },
      "text/plain": [
       "HBox(children=(IntProgress(value=0, max=500), HTML(value='')))"
      ]
     },
     "metadata": {},
     "output_type": "display_data"
    },
    {
     "name": "stdout",
     "output_type": "stream",
     "text": [
      "40 1.0\n"
     ]
    }
   ],
   "source": [
    "samp_powers = np.zeros(len(samp_arr))\n",
    "\n",
    "# For each of the different scenarios ID, FPCA, SQR, CEXP, POLY alter the code as follows:\n",
    "    # ID: Use K_ID in power_test\n",
    "    # FPCA: Use K_FPCA in power_test\n",
    "    # SQR: Use K_SQR in power_test\n",
    "    # CEXP: Uncomment the two following lines with specified values of n_freqs and l and use K_ID in power_test\n",
    "    #CR = CEXP_2D(CR,n_freqs = 20,l = np.sqrt(10)/200) \n",
    "    #RS = CEXP_2D(RS,n_freqs = 20,l = np.sqrt(10)/200) \n",
    "    # POLY: Uncomment the two following lines and use K_ID in power_test\n",
    "    # CR = POLY(CR) \n",
    "    # RS = POLY(RS)\n",
    "\n",
    "# Flatten the data since the Riemann approximations of the L^2 integrals still hold when data is \n",
    "# flattened and it means we can re-use the same functions as in the 1d time series examples\n",
    "CR = np.reshape(CR,(CR.shape[0],CR.shape[1]*CR.shape[2])) \n",
    "RS = np.reshape(RS,(RS.shape[0],RS.shape[1]*RS.shape[2])) \n",
    "\n",
    "# Iterates over every sample size in samp_arr\n",
    "for i,samp_size in enumerate(tqdm(samp_arr)):\n",
    "    # Extracts the random sub-samples\n",
    "    X = random_subsample(CR,samp_size,n_tests,random_state = rng_X)\n",
    "    Y = random_subsample(RS,samp_size,n_tests,random_state = rng_Y)\n",
    "\n",
    "    # To compute the size instead of the power, replace the two lines above with the following line\n",
    "    #X,Y = null_random_subsample(RS,samp_size,n_tests,random_state = rng_X)\n",
    "    \n",
    "    samp_powers[i] = power_test(X,Y,gamma,n_tests,n_perms,make_K = K_ID)\n",
    "    print(samp_size,samp_powers[i])"
   ]
  }
 ],
 "metadata": {
  "kernelspec": {
   "display_name": "Python 3",
   "language": "python",
   "name": "python3"
  },
  "language_info": {
   "codemirror_mode": {
    "name": "ipython",
    "version": 3
   },
   "file_extension": ".py",
   "mimetype": "text/x-python",
   "name": "python",
   "nbconvert_exporter": "python",
   "pygments_lexer": "ipython3",
   "version": "3.7.1"
  }
 },
 "nbformat": 4,
 "nbformat_minor": 4
}
