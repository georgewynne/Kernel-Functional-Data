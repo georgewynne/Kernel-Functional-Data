{
 "cells": [
  {
   "cell_type": "code",
   "execution_count": 55,
   "metadata": {},
   "outputs": [],
   "source": [
    "# All of these (except TQDM) are standard imports and are included for example in Anaconda\n",
    "# TQDM is a package for progress bars and can be easily installed, see https://pypi.org/project/tqdm/\n",
    "import numpy as np\n",
    "import matplotlib.pyplot as plt\n",
    "from sklearn.metrics.pairwise import rbf_kernel\n",
    "from sklearn.metrics import pairwise_distances\n",
    "from sklearn.metrics import pairwise_kernels\n",
    "import scipy.linalg as lin\n",
    "from scipy.special import zeta\n",
    "from sklearn.decomposition import PCA\n",
    "import pandas as pd\n",
    "import sklearn.gaussian_process as gp\n",
    "from scipy.stats import t\n",
    "from scipy.stats import percentileofscore \n",
    "from tqdm import tqdm_notebook as tqdm\n",
    "import os\n",
    "import pandas as pd\n",
    "import random\n",
    "from matplotlib import image"
   ]
  },
  {
   "cell_type": "markdown",
   "metadata": {},
   "source": [
    "# Norm Functions and T Maps"
   ]
  },
  {
   "cell_type": "markdown",
   "metadata": {},
   "source": [
    "### The next two cells contain the code for the five different settings used in the numerical tests: ID, CEXP, FPCA, POLY and SQR. \n",
    "\n",
    "### To see how to combine these to recreate the numerical results see comments in the cells which perform the tests."
   ]
  },
  {
   "cell_type": "code",
   "execution_count": 56,
   "metadata": {},
   "outputs": [],
   "source": [
    "def K_ID(X,Y,gamma=1):\n",
    "    \"\"\"\n",
    "    Forms the kernel matrix K for the two sample test using the SE-T kernel with bandwidth gamma\n",
    "    where T is the identity operator\n",
    "    \n",
    "    Parameters:\n",
    "    X - (n_samples,n_obs) array of samples from the first distribution \n",
    "    Y - (n_samples,n_obs) array of samples from the second distribution \n",
    "    gamma - bandwidth for the kernel, if -1 then median heuristic is used to pick gamma\n",
    "    \n",
    "    Returns:\n",
    "    K - matrix formed from the kernel values of all pairs of samples from the two distributions\n",
    "    \"\"\"\n",
    "    n_obs = X.shape[1]\n",
    "    XY = np.vstack((X,Y))\n",
    "    dist_mat = (1/np.sqrt(n_obs))*pairwise_distances(XY, metric='euclidean')\n",
    "    if gamma == -1:\n",
    "        gamma = np.median(dist_mat[dist_mat > 0])\n",
    "   \n",
    "    K = np.exp(-0.5*(1/gamma**2)*(dist_mat**2))\n",
    "    return K\n",
    "\n",
    "def FPCA(X,n_comp = 0.95):\n",
    "    \"\"\"\n",
    "    Computes principal components of given data up to a specified explained variance level\n",
    "    \n",
    "    Parameters:\n",
    "    X - (n_samples,n_obs) array of function values\n",
    "    n_comp - number of principal components to compute. If in (0,1) then it is the explained variance level\n",
    "    \n",
    "    Returns:\n",
    "    Normalised eigenvalues and eigenfunctions\n",
    "    \"\"\"\n",
    "    n_points = np.shape(X)[1]\n",
    "    pca = PCA(n_components = n_comp)\n",
    "    pca.fit(X)\n",
    "    return (1/n_points)*pca.explained_variance_,pca.components_\n",
    "\n",
    "def K_COV(X,Y,gamma=1):\n",
    "    \"\"\"\n",
    "    Forms the kernel matrix K for the two sample test using the COV kernel\n",
    "    \n",
    "    Parameters:\n",
    "    X - (n_samples,n_obs) array of samples from the first distribution \n",
    "    Y - (n_samples,n_obs) array of samples from the second distribution \n",
    "    gamma - dummy variable noot used in function, is an input for ease of compatability with other kernels\n",
    "    \n",
    "    Returns:\n",
    "    K - matrix formed from the kernel values of all pairs of samples from the two distributions\n",
    "    \"\"\"    \n",
    "    n_obs = X.shape[1]\n",
    "    XY = np.vstack((X,Y))\n",
    "    return ((1/n_obs)*np.dot(XY,XY.T))**2\n",
    "\n",
    "\n",
    "def K_FPCA(X,Y,gamma = 1,n_comp = 0.95):\n",
    "    \"\"\"\n",
    "    Forms the kernel matrix K for the two sample test using the SE-T kernel with bandwidth gamma\n",
    "    where T is the FPCA decomposition operator\n",
    "    \n",
    "    Parameters:\n",
    "    X - (n_samples,n_obs) array of samples from the first distribution \n",
    "    Y - (n_samples,n_obs) array of samples from the second distribution \n",
    "    gamma - bandwidth for the kernel, if -1 then median heuristic is used to pick gamma\n",
    "    n_comp - number of principal components to compute. If in (0,1) then it is the explained variance level\n",
    "    \n",
    "    Returns:\n",
    "    K - matrix formed from the kernel values of all pairs of samples from the two distributions\n",
    "    \"\"\"\n",
    "    n_obs = X.shape[1]\n",
    "    XY = np.vstack((X,Y))\n",
    "    e_vals,e_funcs = FPCA(XY,n_comp = n_comp)\n",
    "    scaled_e_funcs = e_funcs*np.sqrt(e_vals[:,np.newaxis])\n",
    "    XY_e = (1/n_obs)*np.dot(XY,scaled_e_funcs.T)\n",
    "    dist_mat = pairwise_distances(XY_e,metric='euclidean')\n",
    "    if gamma == -1:\n",
    "        gamma = np.median(dist_mat[dist_mat > 0])\n",
    "    K = np.exp(-0.5*(1/gamma**2)*(dist_mat**2))\n",
    "    return K\n",
    "\n",
    "def K_SQR(X,Y,gamma = 1):\n",
    "    \"\"\"\n",
    "    Forms the kernel matrix K for the two sample test using the SE-T kernel with bandwidth gamma\n",
    "    where T is the map which sends x -> (x,x^{2}) in the Cartesian product of L^{2} with itself.\n",
    "    \n",
    "    Parameters:\n",
    "    X - (n_samples,n_obs) array of samples from the first distribution \n",
    "    Y - (n_samples,n_obs) array of samples from the second distribution \n",
    "    gamma - bandwidth for the kernel to be used on the two norms, if -1 then median heuristic \n",
    "            is used to pick a different gamma for each norm, if gamma = 0 then median heuristic\n",
    "            is used to pick a single gamma for each norm.\n",
    "            \n",
    "    Returns:\n",
    "    K - matrix formed from the kernel values of all pairs of samples from the two distributions\n",
    "    \"\"\"\n",
    "    n_obs = X.shape[1]\n",
    "    XY = np.vstack((X,Y))\n",
    "    dist_mat_1 = (1/np.sqrt(n_obs))*pairwise_distances(XY, metric='euclidean')\n",
    "    dist_mat_2 = (1/np.sqrt(n_obs))*pairwise_distances(XY**2, metric='euclidean')\n",
    "    dist_mat = dist_mat_1 + dist_mat_2\n",
    "    if gamma == 0:\n",
    "        gamma = np.median(dist_mat[dist_mat > 0])\n",
    "        K = np.exp(-0.5*(1/gamma**2)*dist_mat**2)\n",
    "        return K\n",
    "    if gamma == -1:\n",
    "        gamma_1 = np.median(dist_mat_1[dist_mat_1 > 0])\n",
    "        gamma_2 = np.median(dist_mat_2[dist_mat_2 > 0])\n",
    "        K = np.exp(-0.5*((1/gamma_1**2)*dist_mat_1**2 + (1/gamma_2**2)*dist_mat_2**2))\n",
    "        return K\n",
    "    K = np.exp(-0.5*((1/gamma**2)*(dist_mat**2)))\n",
    "    return K\n"
   ]
  },
  {
   "cell_type": "code",
   "execution_count": 57,
   "metadata": {},
   "outputs": [],
   "source": [
    "def cos_exp_kernel(x,y,n_freqs = 5,l=1):\n",
    "    \"\"\"\n",
    "    The c-exp kernel\n",
    "    \n",
    "    Parameters:\n",
    "    x,y - inputs \n",
    "    n_freqs - number of frequencies to include in the sum\n",
    "    l- bandwidth of the kernel\n",
    "    \n",
    "    Returns:\n",
    "    Kernel values given x,y\n",
    "    \"\"\"\n",
    "    \n",
    "    cos_term = np.sum([np.cos(2*np.pi*n*(x-y)) for n in range(n_freqs)])\n",
    "    return cos_term*np.exp(-(0.5/(l**2))*(x-y)**2)\n",
    "\n",
    "def CEXP(X,n_freqs = 20,l=np.sqrt(10)):\n",
    "    \"\"\"\n",
    "    Transforms an array of function values using the integral operator induced by the cos-exp kernel. \n",
    "    The function values are assumed to be on [0,1]\n",
    "    \n",
    "    Parameters:\n",
    "    X - (n_samples,n_obs) array of function values\n",
    "    n_freqs - number of frequencies to include in the sum\n",
    "    l- bandwidth of the kernel\n",
    "    \n",
    "    Returns:\n",
    "    cos_exp_X - (n_samples,n_obs) array of function values where each function has been passed\n",
    "                through the integral operator induced by the cos-exp kernel\n",
    "    \"\"\"\n",
    "    n_obs = X.shape[1]\n",
    "    obs_grid = np.linspace(0,1,n_obs)\n",
    "    T_mat = pairwise_kernels(obs_grid.reshape(-1,1), metric = cos_exp_kernel, n_freqs = n_freqs,l=l)\n",
    "    cos_exp_X = (1./n_obs)*np.dot(X,T_mat)\n",
    "    return cos_exp_X"
   ]
  },
  {
   "cell_type": "markdown",
   "metadata": {},
   "source": [
    "# Testing Functions"
   ]
  },
  {
   "cell_type": "markdown",
   "metadata": {},
   "source": [
    "### The next three cells contain the functions used to conduct the two sample test.\n",
    "\n",
    "### MMD_K calculates an empirical MMD quantity \n",
    "\n",
    "### two_sample_test performs a two-sample test, using MMD_K multiple times\n",
    "\n",
    "### power_test performs two_sample_test numerous times to calculate an estimate of test power"
   ]
  },
  {
   "cell_type": "code",
   "execution_count": 58,
   "metadata": {},
   "outputs": [],
   "source": [
    "def MMD_K(K,M,N):\n",
    "    \"\"\"\n",
    "    Calculates the empirical MMD^{2} given a kernel matrix computed from the samples and the sample sizes of each distribution.\n",
    "    \n",
    "    Parameters:\n",
    "    K - kernel matrix of all pairwise kernel values of the two distributions\n",
    "    M - number of samples from first distribution\n",
    "    N - number of samples from first distribution\n",
    "    \n",
    "    Returns:\n",
    "    MMDsquared - empirical estimate of MMD^{2}\n",
    "    \"\"\"\n",
    "    \n",
    "    Kxx = K[:N,:N]\n",
    "    Kyy = K[N:,N:]\n",
    "    Kxy = K[:N,N:]\n",
    "    \n",
    "    t1 = (1./(M*(M-1)))*np.sum(Kxx - np.diag(np.diagonal(Kxx)))\n",
    "    t2 = (2./(M*N)) * np.sum(Kxy)\n",
    "    t3 = (1./(N*(N-1)))* np.sum(Kyy - np.diag(np.diagonal(Kyy)))\n",
    "    \n",
    "    MMDsquared = (t1-t2+t3)\n",
    "    \n",
    "    return MMDsquared"
   ]
  },
  {
   "cell_type": "code",
   "execution_count": 59,
   "metadata": {},
   "outputs": [],
   "source": [
    "def two_sample_test(X,Y,gamma,n_perms,z_alpha = 0.05,make_K = K_ID,return_p = False):\n",
    "    \"\"\"\n",
    "    Performs the two sample test and returns an accept or reject statement\n",
    "    \n",
    "    Parameters:\n",
    "    X - (n_samples,n_obs) array of samples from the first distribution \n",
    "    Y - (n_samples,n_obs) array of samples from the second distribution \n",
    "    gamma - bandwidth for the kernel\n",
    "    n_perms - number of permutations performed when bootstrapping the null\n",
    "    z_alpha - rejection threshold of the test\n",
    "    return_p - option to return the p-value of the test\n",
    "    make_K - function called to construct the kernel matrix used to compute the empirical MMD\n",
    "    \n",
    "    Returns:\n",
    "    rej - 1 if null rejected, 0 if null accepted\n",
    "    p-value - p_value of test\n",
    "    \n",
    "    \"\"\"\n",
    "    \n",
    "    # Number of samples of each distribution is identified and kernel matrix formed\n",
    "    M = X.shape[0]\n",
    "    N = Y.shape[0]\n",
    "    K = make_K(X,Y,gamma = gamma)\n",
    "    \n",
    "    # Empirical MMD^{2} calculated\n",
    "    MMD_test = MMD_K(K,M,N)\n",
    "    \n",
    "    # For n_perms repeats the kernel matrix is shuffled and empirical MMD^{2} recomputed\n",
    "    # to simulate the null\n",
    "    shuffled_tests = np.zeros(n_perms)\n",
    "    for i in range(n_perms):\n",
    "            idx = np.random.permutation(M+N)\n",
    "            K = K[idx, idx[:, None]]\n",
    "            shuffled_tests[i] = MMD_K(K,M,N)\n",
    "    \n",
    "    # Threshold of the null calculated and test is rejected if empirical MMD^{2} of the data\n",
    "    # is larger than the threshold\n",
    "    q = np.quantile(shuffled_tests, 1.0-z_alpha)\n",
    "    rej = int(MMD_test > q)\n",
    "    \n",
    "    if return_p:\n",
    "        p_value = 1-(percentileofscore(shuffled_tests,MMD_test)/100)\n",
    "        return rej, p_value\n",
    "    else:\n",
    "        return rej"
   ]
  },
  {
   "cell_type": "code",
   "execution_count": 60,
   "metadata": {},
   "outputs": [],
   "source": [
    "def power_test(X_samples,Y_samples,gamma,n_tests,n_perms,z_alpha = 0.05,make_K = K_ID,return_p = False):\n",
    "    \"\"\"\n",
    "    Computes multiple two-sample tests and returns the rejection rate\n",
    "    \n",
    "    Parameters:\n",
    "    X_samples - (n_samples*n_tests,n_obs) array of samples from the first distribution \n",
    "    Y_samples - (n_samples*n_tests,n_obs) array of samples from the second distribution \n",
    "    gamma - bandwidth for the kernel\n",
    "    n_tests - number of tests to perform\n",
    "    n_perms - number of permutations performed when bootstrapping the null\n",
    "    z_alpha - rejection threshold of the test\n",
    "    make_K - function called to construct the kernel matrix used to compute the empirical MMD\n",
    "    return_p - option to return the p-value of the test\n",
    "    \n",
    "    Returns:\n",
    "    power - the rate of rejection of the null\n",
    "    \"\"\"\n",
    "    \n",
    "    # Number of samples of each distribution is identified\n",
    "    M = int(X_samples.shape[0]/n_tests)\n",
    "    N = int(Y_samples.shape[0]/n_tests)\n",
    "    rej = np.zeros(n_tests)\n",
    "    \n",
    "    # For each test, extract the data to use and then perform the two-sample test\n",
    "    for t in tqdm(range(n_tests)):\n",
    "        X_t = X_samples[t*M:(t+1)*M,:]\n",
    "        Y_t = Y_samples[t*N:(t+1)*N,:]\n",
    "        rej[t] = two_sample_test(X_t,Y_t,gamma,n_perms,z_alpha = z_alpha,make_K = make_K,return_p = return_p)\n",
    "    \n",
    "    # Compute average rate of rejection\n",
    "    power = np.mean(rej)\n",
    "    return power"
   ]
  },
  {
   "cell_type": "markdown",
   "metadata": {},
   "source": [
    "# Power scaling of i.i.d noise versus correlated noise"
   ]
  },
  {
   "cell_type": "markdown",
   "metadata": {},
   "source": [
    "### Samples of multivariate Gaussians are created for different covariance matrices constructed from the Gaussian kernel with different bandwidths. For different dimensions and different bandwidths the power of the two-sample test is computed. "
   ]
  },
  {
   "cell_type": "code",
   "execution_count": 61,
   "metadata": {},
   "outputs": [],
   "source": [
    "def K_l2(X,Y,gamma=1):\n",
    "    \"\"\"\n",
    "    Forms the kernel matrix K for the two sample test using the standard Gaussian kernel with Euclidean norm\n",
    "    with bandwidth gamma\n",
    "    \n",
    "    Parameters:\n",
    "    X - (n_samples,n_obs) array of samples from the first distribution \n",
    "    Y - (n_samples,n_obs) array of samples from the second distribution \n",
    "    gamma - bandwidth for the Gaussian kernel, if -1 then median heuristic is used to pick gamma\n",
    "    \n",
    "    Returns:\n",
    "    K - matrix formed from the kernel value of all pairs of samples from the two distributions\n",
    "    \"\"\"\n",
    "    XY = np.vstack((X,Y))\n",
    "    dist_mat = pairwise_distances(XY, metric='euclidean')\n",
    "    if gamma == -1:\n",
    "        gamma = np.median(dist_mat[dist_mat > 0])\n",
    "    K = np.exp(-0.5*(1/gamma**2)*(dist_mat**2))\n",
    "    return K"
   ]
  },
  {
   "cell_type": "code",
   "execution_count": 64,
   "metadata": {},
   "outputs": [],
   "source": [
    "# Random state is initialised for reproducibility and the arrays containing the dimensions\n",
    "# and square of bandwidthlengthscales is initialised\n",
    "rng = np.random.RandomState(1234)\n",
    "sub_d_arr = np.array([100,200,400,800,1600])\n",
    "l_sqr_arr = np.array([0,0.0005,0.001,0.002,0.004,0.008])\n",
    "\n",
    "# Number of tests to calculate power, number of permutations for the bootstrap and number of samples from\n",
    "# each distribution for each test\n",
    "n_tests = 500\n",
    "n_perms = 1000\n",
    "M = 50\n",
    "N = 50\n",
    "\n",
    "# Generating the data to be used for the tests. Data has identity covariance which will be transformed by \n",
    "# multiplication with a matrix for the different bandwidths\n",
    "max_d = np.max(sub_d_arr)\n",
    "X = rng.normal(0,1,(n_tests*M,max_d))\n",
    "Y = rng.normal(0,1,(n_tests*N,max_d)) \n",
    "m = 0.05\n",
    "mu = m*np.ones(max_d)\n",
    "Y_shift = Y + mu"
   ]
  },
  {
   "cell_type": "code",
   "execution_count": 65,
   "metadata": {
    "collapsed": true
   },
   "outputs": [
    {
     "data": {
      "application/vnd.jupyter.widget-view+json": {
       "model_id": "44d11fe962dc4746a3828e764eb03f2a",
       "version_major": 2,
       "version_minor": 0
      },
      "text/plain": [
       "HBox(children=(IntProgress(value=0, max=6), HTML(value='')))"
      ]
     },
     "metadata": {},
     "output_type": "display_data"
    },
    {
     "data": {
      "application/vnd.jupyter.widget-view+json": {
       "model_id": "49d0cfcd7bf84d98adc589c064deafe1",
       "version_major": 2,
       "version_minor": 0
      },
      "text/plain": [
       "HBox(children=(IntProgress(value=0, max=500), HTML(value='')))"
      ]
     },
     "metadata": {},
     "output_type": "display_data"
    },
    {
     "data": {
      "application/vnd.jupyter.widget-view+json": {
       "model_id": "28a0fbf689f54b06b388e907416aa687",
       "version_major": 2,
       "version_minor": 0
      },
      "text/plain": [
       "HBox(children=(IntProgress(value=0, max=500), HTML(value='')))"
      ]
     },
     "metadata": {},
     "output_type": "display_data"
    },
    {
     "data": {
      "application/vnd.jupyter.widget-view+json": {
       "model_id": "b94378675ede45d282d0ed579163bb21",
       "version_major": 2,
       "version_minor": 0
      },
      "text/plain": [
       "HBox(children=(IntProgress(value=0, max=500), HTML(value='')))"
      ]
     },
     "metadata": {},
     "output_type": "display_data"
    },
    {
     "data": {
      "application/vnd.jupyter.widget-view+json": {
       "model_id": "b95ba7c094684223bc897a929487fdc6",
       "version_major": 2,
       "version_minor": 0
      },
      "text/plain": [
       "HBox(children=(IntProgress(value=0, max=500), HTML(value='')))"
      ]
     },
     "metadata": {},
     "output_type": "display_data"
    },
    {
     "data": {
      "application/vnd.jupyter.widget-view+json": {
       "model_id": "6220cb7d63474a13a4a614e486d96ab2",
       "version_major": 2,
       "version_minor": 0
      },
      "text/plain": [
       "HBox(children=(IntProgress(value=0, max=500), HTML(value='')))"
      ]
     },
     "metadata": {},
     "output_type": "display_data"
    },
    {
     "data": {
      "application/vnd.jupyter.widget-view+json": {
       "model_id": "6888d77a1c3445c2bc9d1bdc348f06ff",
       "version_major": 2,
       "version_minor": 0
      },
      "text/plain": [
       "HBox(children=(IntProgress(value=0, max=500), HTML(value='')))"
      ]
     },
     "metadata": {},
     "output_type": "display_data"
    },
    {
     "data": {
      "application/vnd.jupyter.widget-view+json": {
       "model_id": "e629646b7a7d47189ec02ef76acafb3c",
       "version_major": 2,
       "version_minor": 0
      },
      "text/plain": [
       "HBox(children=(IntProgress(value=0, max=500), HTML(value='')))"
      ]
     },
     "metadata": {},
     "output_type": "display_data"
    },
    {
     "data": {
      "application/vnd.jupyter.widget-view+json": {
       "model_id": "8600d2be204e420cab9943b6bd0957bf",
       "version_major": 2,
       "version_minor": 0
      },
      "text/plain": [
       "HBox(children=(IntProgress(value=0, max=500), HTML(value='')))"
      ]
     },
     "metadata": {},
     "output_type": "display_data"
    },
    {
     "data": {
      "application/vnd.jupyter.widget-view+json": {
       "model_id": "ed32f4838aeb4d75bdefab0b32c4b5a1",
       "version_major": 2,
       "version_minor": 0
      },
      "text/plain": [
       "HBox(children=(IntProgress(value=0, max=500), HTML(value='')))"
      ]
     },
     "metadata": {},
     "output_type": "display_data"
    },
    {
     "data": {
      "application/vnd.jupyter.widget-view+json": {
       "model_id": "746ea71bdb8240349913448d17399696",
       "version_major": 2,
       "version_minor": 0
      },
      "text/plain": [
       "HBox(children=(IntProgress(value=0, max=500), HTML(value='')))"
      ]
     },
     "metadata": {},
     "output_type": "display_data"
    },
    {
     "data": {
      "application/vnd.jupyter.widget-view+json": {
       "model_id": "6dffa1c43bc441b1963a4d683e581630",
       "version_major": 2,
       "version_minor": 0
      },
      "text/plain": [
       "HBox(children=(IntProgress(value=0, max=500), HTML(value='')))"
      ]
     },
     "metadata": {},
     "output_type": "display_data"
    },
    {
     "data": {
      "application/vnd.jupyter.widget-view+json": {
       "model_id": "5aaeb4e18a1742a485dece4067b46ba4",
       "version_major": 2,
       "version_minor": 0
      },
      "text/plain": [
       "HBox(children=(IntProgress(value=0, max=500), HTML(value='')))"
      ]
     },
     "metadata": {},
     "output_type": "display_data"
    },
    {
     "data": {
      "application/vnd.jupyter.widget-view+json": {
       "model_id": "1e2567fc242e453ca8437a476780c055",
       "version_major": 2,
       "version_minor": 0
      },
      "text/plain": [
       "HBox(children=(IntProgress(value=0, max=500), HTML(value='')))"
      ]
     },
     "metadata": {},
     "output_type": "display_data"
    },
    {
     "data": {
      "application/vnd.jupyter.widget-view+json": {
       "model_id": "1cb73a724b9a47b194c82a6c688b843b",
       "version_major": 2,
       "version_minor": 0
      },
      "text/plain": [
       "HBox(children=(IntProgress(value=0, max=500), HTML(value='')))"
      ]
     },
     "metadata": {},
     "output_type": "display_data"
    },
    {
     "data": {
      "application/vnd.jupyter.widget-view+json": {
       "model_id": "f5d6fbebb75340c086a879956d65d583",
       "version_major": 2,
       "version_minor": 0
      },
      "text/plain": [
       "HBox(children=(IntProgress(value=0, max=500), HTML(value='')))"
      ]
     },
     "metadata": {},
     "output_type": "display_data"
    },
    {
     "data": {
      "application/vnd.jupyter.widget-view+json": {
       "model_id": "47702ef5ab724c58b8a6ccc2d084dd6e",
       "version_major": 2,
       "version_minor": 0
      },
      "text/plain": [
       "HBox(children=(IntProgress(value=0, max=500), HTML(value='')))"
      ]
     },
     "metadata": {},
     "output_type": "display_data"
    },
    {
     "data": {
      "application/vnd.jupyter.widget-view+json": {
       "model_id": "3b4741594b2543c18a8fdd4346cd31a1",
       "version_major": 2,
       "version_minor": 0
      },
      "text/plain": [
       "HBox(children=(IntProgress(value=0, max=500), HTML(value='')))"
      ]
     },
     "metadata": {},
     "output_type": "display_data"
    },
    {
     "data": {
      "application/vnd.jupyter.widget-view+json": {
       "model_id": "2c1ace28debf44249951e88d3d9ff53e",
       "version_major": 2,
       "version_minor": 0
      },
      "text/plain": [
       "HBox(children=(IntProgress(value=0, max=500), HTML(value='')))"
      ]
     },
     "metadata": {},
     "output_type": "display_data"
    },
    {
     "data": {
      "application/vnd.jupyter.widget-view+json": {
       "model_id": "2a31d721f92a4ed09ff45530d5d5fe84",
       "version_major": 2,
       "version_minor": 0
      },
      "text/plain": [
       "HBox(children=(IntProgress(value=0, max=500), HTML(value='')))"
      ]
     },
     "metadata": {},
     "output_type": "display_data"
    },
    {
     "data": {
      "application/vnd.jupyter.widget-view+json": {
       "model_id": "16a05e647ffd4a0a80fe2d2b973e00ca",
       "version_major": 2,
       "version_minor": 0
      },
      "text/plain": [
       "HBox(children=(IntProgress(value=0, max=500), HTML(value='')))"
      ]
     },
     "metadata": {},
     "output_type": "display_data"
    },
    {
     "data": {
      "application/vnd.jupyter.widget-view+json": {
       "model_id": "e70eb765e4b1426ca056a3bbeb441941",
       "version_major": 2,
       "version_minor": 0
      },
      "text/plain": [
       "HBox(children=(IntProgress(value=0, max=500), HTML(value='')))"
      ]
     },
     "metadata": {},
     "output_type": "display_data"
    },
    {
     "data": {
      "application/vnd.jupyter.widget-view+json": {
       "model_id": "d682148518474298abffa9b43289c3a0",
       "version_major": 2,
       "version_minor": 0
      },
      "text/plain": [
       "HBox(children=(IntProgress(value=0, max=500), HTML(value='')))"
      ]
     },
     "metadata": {},
     "output_type": "display_data"
    },
    {
     "data": {
      "application/vnd.jupyter.widget-view+json": {
       "model_id": "5c70a7685b02439f88019d4a19033213",
       "version_major": 2,
       "version_minor": 0
      },
      "text/plain": [
       "HBox(children=(IntProgress(value=0, max=500), HTML(value='')))"
      ]
     },
     "metadata": {},
     "output_type": "display_data"
    },
    {
     "data": {
      "application/vnd.jupyter.widget-view+json": {
       "model_id": "f7954c458c1a4c2db70e30bbb55175fa",
       "version_major": 2,
       "version_minor": 0
      },
      "text/plain": [
       "HBox(children=(IntProgress(value=0, max=500), HTML(value='')))"
      ]
     },
     "metadata": {},
     "output_type": "display_data"
    },
    {
     "data": {
      "application/vnd.jupyter.widget-view+json": {
       "model_id": "48c784eacd5e46e584d151b324f37ea2",
       "version_major": 2,
       "version_minor": 0
      },
      "text/plain": [
       "HBox(children=(IntProgress(value=0, max=500), HTML(value='')))"
      ]
     },
     "metadata": {},
     "output_type": "display_data"
    },
    {
     "data": {
      "application/vnd.jupyter.widget-view+json": {
       "model_id": "3045da9fb53a4086a8aec37543e6f9c5",
       "version_major": 2,
       "version_minor": 0
      },
      "text/plain": [
       "HBox(children=(IntProgress(value=0, max=500), HTML(value='')))"
      ]
     },
     "metadata": {},
     "output_type": "display_data"
    },
    {
     "data": {
      "application/vnd.jupyter.widget-view+json": {
       "model_id": "0954ad83040249e38000c94d1b8ebf56",
       "version_major": 2,
       "version_minor": 0
      },
      "text/plain": [
       "HBox(children=(IntProgress(value=0, max=500), HTML(value='')))"
      ]
     },
     "metadata": {},
     "output_type": "display_data"
    },
    {
     "data": {
      "application/vnd.jupyter.widget-view+json": {
       "model_id": "b4c32502fa484f75924c161bc213436b",
       "version_major": 2,
       "version_minor": 0
      },
      "text/plain": [
       "HBox(children=(IntProgress(value=0, max=500), HTML(value='')))"
      ]
     },
     "metadata": {},
     "output_type": "display_data"
    },
    {
     "data": {
      "application/vnd.jupyter.widget-view+json": {
       "model_id": "cb75b994fb414d3abe070323b6a5829d",
       "version_major": 2,
       "version_minor": 0
      },
      "text/plain": [
       "HBox(children=(IntProgress(value=0, max=500), HTML(value='')))"
      ]
     },
     "metadata": {},
     "output_type": "display_data"
    },
    {
     "data": {
      "application/vnd.jupyter.widget-view+json": {
       "model_id": "0f49d11fe77d4ea086667a8c61774e50",
       "version_major": 2,
       "version_minor": 0
      },
      "text/plain": [
       "HBox(children=(IntProgress(value=0, max=500), HTML(value='')))"
      ]
     },
     "metadata": {},
     "output_type": "display_data"
    }
   ],
   "source": [
    "powers = np.zeros((len(l_sqr_arr),len(sub_d_arr)))\n",
    "for i,l_sqr in enumerate(tqdm(l_sqr_arr)):\n",
    "    for j,sub_d in enumerate(sub_d_arr):\n",
    "        # Sets the bandwidth\n",
    "        gamma = np.sqrt(sub_d)\n",
    "        \n",
    "        # l = 0 corresponds to i.i.d. data so no multiplication to change the covariance needed\n",
    "        if l_sqr == 0:\n",
    "            powers[i,j] = power_test(X[:,:sub_d],Y_shift[:,:sub_d],gamma,n_tests,n_perms,make_K = K_l2)\n",
    "        else:\n",
    "            # Constructs the square root of the covariance matrix for the given bandwidth\n",
    "            xd = np.linspace(0,1,sub_d)\n",
    "            sqrt_exp_mat = lin.sqrtm(np.exp(-(1/(2*l_sqr))*pairwise_distances(xd[:,np.newaxis])))\n",
    "            \n",
    "            # Create correlated samples by matrix multiplication\n",
    "            X_corr = np.dot(X[:,:sub_d],sqrt_exp_mat)\n",
    "            Y_corr = np.dot(Y[:,:sub_d],sqrt_exp_mat)\n",
    "            Y_corr_shift = Y_corr + mu[:sub_d]\n",
    "            powers[i,j] = power_test(X_corr,Y_corr_shift,gamma,n_tests,n_perms,make_K = K_l2)"
   ]
  },
  {
   "cell_type": "code",
   "execution_count": 66,
   "metadata": {},
   "outputs": [
    {
     "data": {
      "text/plain": [
       "[<matplotlib.lines.Line2D at 0x7ffb5e77e780>,\n",
       " <matplotlib.lines.Line2D at 0x7ffb5e77e8d0>,\n",
       " <matplotlib.lines.Line2D at 0x7ffb5e77ea20>,\n",
       " <matplotlib.lines.Line2D at 0x7ffb5e77eb70>,\n",
       " <matplotlib.lines.Line2D at 0x7ffb5e77ecc0>,\n",
       " <matplotlib.lines.Line2D at 0x7ffb5e77ee10>]"
      ]
     },
     "execution_count": 66,
     "metadata": {},
     "output_type": "execute_result"
    },
    {
     "data": {
      "image/png": "[encoded data removed]",
      "text/plain": [
       "<Figure size 432x288 with 1 Axes>"
      ]
     },
     "metadata": {
      "needs_background": "light"
     },
     "output_type": "display_data"
    }
   ],
   "source": [
    "plt.plot(sub_d_arr,powers.T)"
   ]
  },
  {
   "cell_type": "markdown",
   "metadata": {},
   "source": [
    "# Synthetic Mean Shift Data"
   ]
  },
  {
   "cell_type": "markdown",
   "metadata": {},
   "source": [
    "### Data is from Scenario A). of Section 4.1 of \"A Two Sample Distribution-Free Test for Functional Data with Application to a Diffusion Tensor Imaging Study of Multiple Sclerosis\" by Pomann et al, JRSSB 2016"
   ]
  },
  {
   "cell_type": "code",
   "execution_count": 7,
   "metadata": {},
   "outputs": [],
   "source": [
    "def mean_shift(n_samples,obs_grid,delta = 0,sd = np.sqrt(0.25),random_state = None):\n",
    "    \"\"\"\n",
    "    Data used for the mean shift test. \n",
    "    \n",
    "    Parameters:\n",
    "    n_samples - number of function samples to return\n",
    "    obs_grid - observation locations \n",
    "    delta - the coefficient of t^3\n",
    "    sd - the standard deviation of the observation noise\n",
    "    random_state - random seed\n",
    "    \n",
    "    \"\"\"\n",
    "    rng = np.random.RandomState(random_state)\n",
    "    n_points = len(obs_grid)\n",
    "    X = (rng.normal(0,np.sqrt(10),(n_samples,1))*np.sqrt(2)*np.sin(2*np.pi*obs_grid)) + (rng.normal(0,np.sqrt(5),(n_samples,1))*np.sqrt(2)*np.cos(2*np.pi*obs_grid))\n",
    "    X += obs_grid + delta*(obs_grid**3)\n",
    "    X += rng.normal(0,sd,(n_samples,n_points))\n",
    "    return X"
   ]
  },
  {
   "cell_type": "code",
   "execution_count": 10,
   "metadata": {},
   "outputs": [],
   "source": [
    "# Set random seed\n",
    "rng_X = 1234\n",
    "rng_Y = 5678\n",
    "\n",
    "# Number of tests and permutations for the bootstrap per test\n",
    "n_tests = 500\n",
    "n_perms = 1000\n",
    "\n",
    "# Samples sizes for the two distributions\n",
    "M = 100\n",
    "N = 100\n",
    "\n",
    "# Range of parameters to test over\n",
    "delta_arr = np.array([0,0.5,1,1.5,2])\n",
    "\n",
    "# Grid of observation locations\n",
    "n_grid_points = 100\n",
    "obs_grid = np.linspace(0,1,n_grid_points)\n",
    "\n",
    "# Set bandwidth parameter, -1 causes median heuristic to be used\n",
    "gamma = -1"
   ]
  },
  {
   "cell_type": "code",
   "execution_count": 15,
   "metadata": {},
   "outputs": [
    {
     "data": {
      "application/vnd.jupyter.widget-view+json": {
       "model_id": "28a43b2c588a4fe19a4b0d3ab8d2fcfc",
       "version_major": 2,
       "version_minor": 0
      },
      "text/plain": [
       "HBox(children=(IntProgress(value=0, max=5), HTML(value='')))"
      ]
     },
     "metadata": {},
     "output_type": "display_data"
    },
    {
     "data": {
      "application/vnd.jupyter.widget-view+json": {
       "model_id": "f61620dd6a2d4bb8893f2ab8ae235aa6",
       "version_major": 2,
       "version_minor": 0
      },
      "text/plain": [
       "HBox(children=(IntProgress(value=0, max=500), HTML(value='')))"
      ]
     },
     "metadata": {},
     "output_type": "display_data"
    },
    {
     "name": "stdout",
     "output_type": "stream",
     "text": [
      "0.0 0.048\n"
     ]
    },
    {
     "data": {
      "application/vnd.jupyter.widget-view+json": {
       "model_id": "a2ad28507b7b4029a6b753be9670cf51",
       "version_major": 2,
       "version_minor": 0
      },
      "text/plain": [
       "HBox(children=(IntProgress(value=0, max=500), HTML(value='')))"
      ]
     },
     "metadata": {},
     "output_type": "display_data"
    },
    {
     "name": "stdout",
     "output_type": "stream",
     "text": [
      "0.5 0.044\n"
     ]
    },
    {
     "data": {
      "application/vnd.jupyter.widget-view+json": {
       "model_id": "7e888519db034196990c7f447cf7d932",
       "version_major": 2,
       "version_minor": 0
      },
      "text/plain": [
       "HBox(children=(IntProgress(value=0, max=500), HTML(value='')))"
      ]
     },
     "metadata": {},
     "output_type": "display_data"
    },
    {
     "name": "stdout",
     "output_type": "stream",
     "text": [
      "1.0 0.042\n"
     ]
    },
    {
     "data": {
      "application/vnd.jupyter.widget-view+json": {
       "model_id": "324ab14509cb4ba1915378008e22a057",
       "version_major": 2,
       "version_minor": 0
      },
      "text/plain": [
       "HBox(children=(IntProgress(value=0, max=500), HTML(value='')))"
      ]
     },
     "metadata": {},
     "output_type": "display_data"
    },
    {
     "name": "stdout",
     "output_type": "stream",
     "text": [
      "1.5 0.044\n"
     ]
    },
    {
     "data": {
      "application/vnd.jupyter.widget-view+json": {
       "model_id": "c6e46ca7236a42bea2282c2050fa80b4",
       "version_major": 2,
       "version_minor": 0
      },
      "text/plain": [
       "HBox(children=(IntProgress(value=0, max=500), HTML(value='')))"
      ]
     },
     "metadata": {},
     "output_type": "display_data"
    },
    {
     "name": "stdout",
     "output_type": "stream",
     "text": [
      "2.0 0.064\n"
     ]
    }
   ],
   "source": [
    "mean_shift_powers = np.zeros(len(delta_arr)) \n",
    "\n",
    "# Loop over delta values\n",
    "for i,delta in enumerate(tqdm(delta_arr)):\n",
    "    # Generate the data\n",
    "    X = mean_shift(M*n_tests,obs_grid,delta = 0,sd = np.sqrt(0.25),random_state = rng_X)\n",
    "    Y = mean_shift(N*n_tests,obs_grid,delta = delta,sd = np.sqrt(0.25),random_state = rng_Y)\n",
    "    \n",
    "    # For each of the different scenarios ID, FPCA, SQR, CEXP, POLY alter the code as follows:\n",
    "    # ID: Use K_ID in power_test\n",
    "    # FPCA: Use K_FPCA in power_test\n",
    "    # SQR: Use K_SQR in power_test\n",
    "    # COV: Use K_COV in power_test\n",
    "    # CEXP: Run the following lines before using K_ID in power_test, for given values of n_freqs and l\n",
    "#     n_freqs = 20\n",
    "#     l = np.sqrt(10)\n",
    "#     X = CEXP(X,n_freqs,l) \n",
    "#     Y = CEXP(Y,n_freqs,l) \n",
    "\n",
    "    \n",
    "    # Calculate and store power for this choice the delta\n",
    "    mean_shift_powers[i] = power_test(X,Y,gamma,n_tests,n_perms,make_K = K_COV)\n",
    "    print(delta, mean_shift_powers[i])"
   ]
  },
  {
   "cell_type": "code",
   "execution_count": 16,
   "metadata": {},
   "outputs": [
    {
     "data": {
      "text/plain": [
       "[<matplotlib.lines.Line2D at 0x7ffc67ee50f0>]"
      ]
     },
     "execution_count": 16,
     "metadata": {},
     "output_type": "execute_result"
    },
    {
     "data": {
      "image/png": "[encoded data removed]",
      "text/plain": [
       "<Figure size 432x288 with 1 Axes>"
      ]
     },
     "metadata": {
      "needs_background": "light"
     },
     "output_type": "display_data"
    }
   ],
   "source": [
    "plt.plot(delta_arr,mean_shift_powers)"
   ]
  },
  {
   "cell_type": "markdown",
   "metadata": {},
   "source": [
    "# Plotting ROC curve"
   ]
  },
  {
   "cell_type": "code",
   "execution_count": 48,
   "metadata": {
    "scrolled": true
   },
   "outputs": [
    {
     "data": {
      "application/vnd.jupyter.widget-view+json": {
       "model_id": "031d493ed1554610b242e89614e8174a",
       "version_major": 2,
       "version_minor": 0
      },
      "text/plain": [
       "HBox(children=(IntProgress(value=0, max=10), HTML(value='')))"
      ]
     },
     "metadata": {},
     "output_type": "display_data"
    },
    {
     "data": {
      "application/vnd.jupyter.widget-view+json": {
       "model_id": "5bbeba55d1a74fbdb456059c75895dc2",
       "version_major": 2,
       "version_minor": 0
      },
      "text/plain": [
       "HBox(children=(IntProgress(value=0, max=500), HTML(value='')))"
      ]
     },
     "metadata": {},
     "output_type": "display_data"
    },
    {
     "name": "stdout",
     "output_type": "stream",
     "text": [
      "alpha:  0.05  True positive rate rate:  0.072\n"
     ]
    },
    {
     "data": {
      "application/vnd.jupyter.widget-view+json": {
       "model_id": "fd1e2e39b7124d0490d2c516db9127d5",
       "version_major": 2,
       "version_minor": 0
      },
      "text/plain": [
       "HBox(children=(IntProgress(value=0, max=500), HTML(value='')))"
      ]
     },
     "metadata": {},
     "output_type": "display_data"
    },
    {
     "name": "stdout",
     "output_type": "stream",
     "text": [
      "alpha:  0.15000000000000002  True positive rate rate:  0.154\n"
     ]
    },
    {
     "data": {
      "application/vnd.jupyter.widget-view+json": {
       "model_id": "33cd19ad91804406a7d6f43677e2cd7c",
       "version_major": 2,
       "version_minor": 0
      },
      "text/plain": [
       "HBox(children=(IntProgress(value=0, max=500), HTML(value='')))"
      ]
     },
     "metadata": {},
     "output_type": "display_data"
    },
    {
     "name": "stdout",
     "output_type": "stream",
     "text": [
      "alpha:  0.25  True positive rate rate:  0.252\n"
     ]
    },
    {
     "data": {
      "application/vnd.jupyter.widget-view+json": {
       "model_id": "67d73919369745cf99399125250ee3d8",
       "version_major": 2,
       "version_minor": 0
      },
      "text/plain": [
       "HBox(children=(IntProgress(value=0, max=500), HTML(value='')))"
      ]
     },
     "metadata": {},
     "output_type": "display_data"
    },
    {
     "name": "stdout",
     "output_type": "stream",
     "text": [
      "alpha:  0.35000000000000003  True positive rate rate:  0.38\n"
     ]
    },
    {
     "data": {
      "application/vnd.jupyter.widget-view+json": {
       "model_id": "b1576e4a7da14d2f87f0af387b03b6c6",
       "version_major": 2,
       "version_minor": 0
      },
      "text/plain": [
       "HBox(children=(IntProgress(value=0, max=500), HTML(value='')))"
      ]
     },
     "metadata": {},
     "output_type": "display_data"
    },
    {
     "name": "stdout",
     "output_type": "stream",
     "text": [
      "alpha:  0.45  True positive rate rate:  0.478\n"
     ]
    },
    {
     "data": {
      "application/vnd.jupyter.widget-view+json": {
       "model_id": "83b14d668ae8453e814e588ec82f43a2",
       "version_major": 2,
       "version_minor": 0
      },
      "text/plain": [
       "HBox(children=(IntProgress(value=0, max=500), HTML(value='')))"
      ]
     },
     "metadata": {},
     "output_type": "display_data"
    },
    {
     "name": "stdout",
     "output_type": "stream",
     "text": [
      "alpha:  0.55  True positive rate rate:  0.58\n"
     ]
    },
    {
     "data": {
      "application/vnd.jupyter.widget-view+json": {
       "model_id": "a2aee42d64c946c593d52529b827ee9a",
       "version_major": 2,
       "version_minor": 0
      },
      "text/plain": [
       "HBox(children=(IntProgress(value=0, max=500), HTML(value='')))"
      ]
     },
     "metadata": {},
     "output_type": "display_data"
    },
    {
     "name": "stdout",
     "output_type": "stream",
     "text": [
      "alpha:  0.6500000000000001  True positive rate rate:  0.688\n"
     ]
    },
    {
     "data": {
      "application/vnd.jupyter.widget-view+json": {
       "model_id": "bbc694532d224aefa6cf0867498c5fde",
       "version_major": 2,
       "version_minor": 0
      },
      "text/plain": [
       "HBox(children=(IntProgress(value=0, max=500), HTML(value='')))"
      ]
     },
     "metadata": {},
     "output_type": "display_data"
    },
    {
     "name": "stdout",
     "output_type": "stream",
     "text": [
      "alpha:  0.7500000000000001  True positive rate rate:  0.774\n"
     ]
    },
    {
     "data": {
      "application/vnd.jupyter.widget-view+json": {
       "model_id": "66e985d0cb9e44b6b8f0c2d629adf5fd",
       "version_major": 2,
       "version_minor": 0
      },
      "text/plain": [
       "HBox(children=(IntProgress(value=0, max=500), HTML(value='')))"
      ]
     },
     "metadata": {},
     "output_type": "display_data"
    },
    {
     "name": "stdout",
     "output_type": "stream",
     "text": [
      "alpha:  0.8500000000000001  True positive rate rate:  0.86\n"
     ]
    },
    {
     "data": {
      "application/vnd.jupyter.widget-view+json": {
       "model_id": "cefcc7bf456e4e96b6b6f93c270d455d",
       "version_major": 2,
       "version_minor": 0
      },
      "text/plain": [
       "HBox(children=(IntProgress(value=0, max=500), HTML(value='')))"
      ]
     },
     "metadata": {},
     "output_type": "display_data"
    },
    {
     "name": "stdout",
     "output_type": "stream",
     "text": [
      "alpha:  0.9500000000000001  True positive rate rate:  0.946\n"
     ]
    }
   ],
   "source": [
    "alpha_arr = np.linspace(0,0.9,10)+0.05\n",
    "N = 50\n",
    "ROC_powers = np.zeros(len(alpha_arr))\n",
    "\n",
    "for i,alpha in enumerate(tqdm(alpha_arr)):\n",
    "    # Generate the data\n",
    "    X = mean_shift(N*n_tests,obs_grid,delta = 0,sd = np.sqrt(0.25),random_state = rng_X)\n",
    "    Y = mean_shift(N*n_tests,obs_grid,delta = 1.25,sd = np.sqrt(0.25),random_state = rng_Y)\n",
    "    \n",
    "    # For each of the different scenarios ID, FPCA, SQR, CEXP, POLY alter the code as follows:\n",
    "    # ID: Use K_ID in power_test\n",
    "    # FPCA: Use K_FPCA in power_test\n",
    "    # SQR: Use K_SQR in power_test\n",
    "    # COV: Use K_COV in power_test\n",
    "    # CEXP: Run the following lines before using K_ID in power_test, for given values of n_freqs and l\n",
    "#     n_freqs = 20\n",
    "#     l = np.sqrt(10)\n",
    "#     X = CEXP(X,n_freqs=20,l=np.sqrt(10)) \n",
    "#     Y = CEXP(Y,n_freqs=20,l=np.sqrt(10)) \n",
    "\n",
    "    \n",
    "    \n",
    "    # Calculate and store power for this choice the delta\n",
    "    ROC_powers[i] = power_test(X,Y,gamma,n_tests,n_perms,make_K = K_COV,z_alpha = alpha)\n",
    "    print('alpha: ',alpha, ' True positive rate rate: ', ROC_powers[i])"
   ]
  },
  {
   "cell_type": "markdown",
   "metadata": {},
   "source": [
    "# Synthetic Variance Shift Data, Shift in Single Frequency"
   ]
  },
  {
   "cell_type": "markdown",
   "metadata": {},
   "source": [
    "### Data is from Scenario B). of Section 4.1 of \"A Two Sample Distribution-Free Test for Functional Data with Application to a Diffusion Tensor Imaging Study of Multiple Sclerosis\" by Pomann et al, JRSSB 2016"
   ]
  },
  {
   "cell_type": "code",
   "execution_count": 17,
   "metadata": {},
   "outputs": [],
   "source": [
    "def variance_shift_single_freq(n_samples,obs_grid,delta = 0, sd = np.sqrt(0.25),random_state = None):\n",
    "    \"\"\"\n",
    "    Data used for the single frequency variance shift test. \n",
    "    \n",
    "    Parameters:\n",
    "    n_samples - number of function samples to return\n",
    "    obs_grid - observation locations \n",
    "    delta - the coefficient of t^3\n",
    "    sd - the standard deviation of the observation noise\n",
    "    random_state - random seed\n",
    "    \n",
    "    \"\"\"\n",
    "    rng = np.random.RandomState(random_state)\n",
    "    n_points = len(obs_grid)\n",
    "    X = (rng.normal(0,np.sqrt(10+delta),(n_samples,1))*np.sqrt(2)*np.sin(2*np.pi*obs_grid)) + (rng.normal(0,np.sqrt(5),(n_samples,1))*np.sqrt(2)*np.cos(2*np.pi*obs_grid))\n",
    "    X += rng.normal(0,sd,(n_samples,n_points))\n",
    "    return X"
   ]
  },
  {
   "cell_type": "code",
   "execution_count": 18,
   "metadata": {},
   "outputs": [],
   "source": [
    "# Set random seed\n",
    "rng_X = 1234\n",
    "rng_Y = 5678\n",
    "\n",
    "# Number of tests and permutations for the bootstrap per test\n",
    "n_tests = 500\n",
    "n_perms = 1000\n",
    "\n",
    "\n",
    "# Samples sizes for the two distributions\n",
    "M = 100\n",
    "N = 100\n",
    "\n",
    "# Range of parameters to test over\n",
    "delta_arr = np.array([0,5,10,15,20])\n",
    "\n",
    "# Grid of observation locations\n",
    "n_grid_points = 100\n",
    "obs_grid = np.linspace(0,1,n_grid_points)\n",
    "\n",
    "# Set bandwidth parameter, -1 causes median heuristic to be used\n",
    "gamma = -1"
   ]
  },
  {
   "cell_type": "code",
   "execution_count": 23,
   "metadata": {},
   "outputs": [
    {
     "data": {
      "application/vnd.jupyter.widget-view+json": {
       "model_id": "5072ad0b462b46389eb06e2a8cf4d7d2",
       "version_major": 2,
       "version_minor": 0
      },
      "text/plain": [
       "HBox(children=(IntProgress(value=0, max=5), HTML(value='')))"
      ]
     },
     "metadata": {},
     "output_type": "display_data"
    },
    {
     "data": {
      "application/vnd.jupyter.widget-view+json": {
       "model_id": "20c7078b4383453b997d6b9d496bb041",
       "version_major": 2,
       "version_minor": 0
      },
      "text/plain": [
       "HBox(children=(IntProgress(value=0, max=500), HTML(value='')))"
      ]
     },
     "metadata": {},
     "output_type": "display_data"
    },
    {
     "name": "stdout",
     "output_type": "stream",
     "text": [
      "0 0.05\n"
     ]
    },
    {
     "data": {
      "application/vnd.jupyter.widget-view+json": {
       "model_id": "e09297f5074747aebe4547843e06f755",
       "version_major": 2,
       "version_minor": 0
      },
      "text/plain": [
       "HBox(children=(IntProgress(value=0, max=500), HTML(value='')))"
      ]
     },
     "metadata": {},
     "output_type": "display_data"
    },
    {
     "name": "stdout",
     "output_type": "stream",
     "text": [
      "5 0.484\n"
     ]
    },
    {
     "data": {
      "application/vnd.jupyter.widget-view+json": {
       "model_id": "e79acaf8ed954554b62b255fc7a141e4",
       "version_major": 2,
       "version_minor": 0
      },
      "text/plain": [
       "HBox(children=(IntProgress(value=0, max=500), HTML(value='')))"
      ]
     },
     "metadata": {},
     "output_type": "display_data"
    },
    {
     "name": "stdout",
     "output_type": "stream",
     "text": [
      "10 0.93\n"
     ]
    },
    {
     "data": {
      "application/vnd.jupyter.widget-view+json": {
       "model_id": "e650a7b0f97f4b39a311eb61eba6bb23",
       "version_major": 2,
       "version_minor": 0
      },
      "text/plain": [
       "HBox(children=(IntProgress(value=0, max=500), HTML(value='')))"
      ]
     },
     "metadata": {},
     "output_type": "display_data"
    },
    {
     "name": "stdout",
     "output_type": "stream",
     "text": [
      "15 0.992\n"
     ]
    },
    {
     "data": {
      "application/vnd.jupyter.widget-view+json": {
       "model_id": "0bdf274dcf4a402491f721da4739aea3",
       "version_major": 2,
       "version_minor": 0
      },
      "text/plain": [
       "HBox(children=(IntProgress(value=0, max=500), HTML(value='')))"
      ]
     },
     "metadata": {},
     "output_type": "display_data"
    },
    {
     "name": "stdout",
     "output_type": "stream",
     "text": [
      "20 1.0\n"
     ]
    }
   ],
   "source": [
    "var_shift_powers = np.zeros(len(delta_arr)) \n",
    "# Loop over delta values\n",
    "for i,delta in enumerate(tqdm(delta_arr)):\n",
    "    # Generate the data\n",
    "    X = variance_shift_single_freq(M*n_tests,obs_grid,delta = 0,sd = np.sqrt(0.25),random_state = rng_X)\n",
    "    Y = variance_shift_single_freq(N*n_tests,obs_grid,delta = delta,sd = np.sqrt(0.25),random_state = rng_Y)\n",
    "    \n",
    "    # For each of the different scenarios ID, FPCA, SQR, CEXP, POLY alter the code as follows:\n",
    "    # ID: Use K_ID in power_test\n",
    "    # FPCA: Use K_FPCA in power_test\n",
    "    # SQR: Use K_SQR in power_test\n",
    "    # COV: Use K_COV in power_test\n",
    "    # CEXP: Run the two following lines before using K_ID in power_test, for given values of n_freqs and l\n",
    "#     n_freqs = 20\n",
    "#     l = np.sqrt(10)\n",
    "#     X = CEXP(X,n_freqs,l) \n",
    "#     Y = CEXP(Y,n_freqs,l) \n",
    "\n",
    "    \n",
    "    # Calculate and store power for this choice the delta\n",
    "    var_shift_powers[i] = power_test(X,Y,gamma,n_tests,n_perms,make_K = K_COV)\n",
    "    print(delta, var_shift_powers[i])"
   ]
  },
  {
   "cell_type": "code",
   "execution_count": 40,
   "metadata": {},
   "outputs": [
    {
     "data": {
      "text/plain": [
       "[<matplotlib.lines.Line2D at 0x13a0553c8>]"
      ]
     },
     "execution_count": 40,
     "metadata": {},
     "output_type": "execute_result"
    },
    {
     "data": {
      "image/png": "[encoded data removed]",
      "text/plain": [
       "<Figure size 432x288 with 1 Axes>"
      ]
     },
     "metadata": {
      "needs_background": "light"
     },
     "output_type": "display_data"
    }
   ],
   "source": [
    "plt.plot(delta_arr,var_shift_powers)"
   ]
  },
  {
   "cell_type": "markdown",
   "metadata": {},
   "source": [
    "# Synthetic Variance Shift Data, Scalar Difference on all Frequencies"
   ]
  },
  {
   "cell_type": "markdown",
   "metadata": {},
   "source": [
    "### Data is from Section 3.1 of \"Bootstrap-based testing of equality of mean functions or equality of covariance operators for functional data\" by Paparoditis and Sapatinas, Biometrika 2016"
   ]
  },
  {
   "cell_type": "code",
   "execution_count": 24,
   "metadata": {},
   "outputs": [],
   "source": [
    "def variance_scalar_difference(n_samples,obs_grid,delta = 1,random_state = None):\n",
    "    \"\"\"\n",
    "    Data used for the sclar multiple difference variance test. \n",
    "    \n",
    "    Parameters:\n",
    "    n_samples - number of function samples to return\n",
    "    obs_grid - observation locations \n",
    "    delta - the scalar which the function is multiplied by\n",
    "    random_state - random seed\n",
    "    \n",
    "    \"\"\"\n",
    "    rng = np.random.RandomState(random_state)\n",
    "    n_obs = len(obs_grid)\n",
    "    t_vals = t.rvs(df = 5,size = (n_samples,2),random_state = rng)\n",
    "    n_points = len(obs_grid)\n",
    "    X = np.zeros((n_samples,n_obs))\n",
    "    for i in range(n_samples):\n",
    "        X[i,:] = np.sum([np.sqrt(2)*(k**(-0.5))*np.sin(np.pi*k*obs_grid)*t_vals[i,0] + (k**(-0.5))*np.cos(np.pi*k*obs_grid)*t_vals[i,1] for k in range(1,11)],axis=0)\n",
    "    return delta*X"
   ]
  },
  {
   "cell_type": "code",
   "execution_count": 25,
   "metadata": {},
   "outputs": [],
   "source": [
    "# Set random seed\n",
    "rng_X = 1234\n",
    "rng_Y = 5678\n",
    "\n",
    "# Number of tests and permutations for the bootstrap per test\n",
    "n_tests = 500\n",
    "n_perms = 1000\n",
    "\n",
    "# Samples sizes for the two distributions\n",
    "M = 25\n",
    "N = 25\n",
    "\n",
    "# Range of parameters to test over\n",
    "delta_arr = np.array([1,1.2,1.4,1.6,1.8,2])\n",
    "\n",
    "# Grid of observation locations\n",
    "n_grid_points = 500\n",
    "obs_grid = np.linspace(0,1,n_grid_points)\n",
    "\n",
    "# Set bandwidth parameter, -1 causes median heuristic to be used\n",
    "gamma = -1"
   ]
  },
  {
   "cell_type": "code",
   "execution_count": 31,
   "metadata": {},
   "outputs": [
    {
     "data": {
      "application/vnd.jupyter.widget-view+json": {
       "model_id": "d96568a7f50748b8adc454fbb36fe799",
       "version_major": 2,
       "version_minor": 0
      },
      "text/plain": [
       "HBox(children=(IntProgress(value=0, max=6), HTML(value='')))"
      ]
     },
     "metadata": {},
     "output_type": "display_data"
    },
    {
     "data": {
      "application/vnd.jupyter.widget-view+json": {
       "model_id": "1b7cf3123dc14ec595dbea3db35e59c6",
       "version_major": 2,
       "version_minor": 0
      },
      "text/plain": [
       "HBox(children=(IntProgress(value=0, max=500), HTML(value='')))"
      ]
     },
     "metadata": {},
     "output_type": "display_data"
    },
    {
     "name": "stdout",
     "output_type": "stream",
     "text": [
      "1.0 0.05\n"
     ]
    },
    {
     "data": {
      "application/vnd.jupyter.widget-view+json": {
       "model_id": "4be5104b176646ffbb9b6100d29ae027",
       "version_major": 2,
       "version_minor": 0
      },
      "text/plain": [
       "HBox(children=(IntProgress(value=0, max=500), HTML(value='')))"
      ]
     },
     "metadata": {},
     "output_type": "display_data"
    },
    {
     "name": "stdout",
     "output_type": "stream",
     "text": [
      "1.2 0.11\n"
     ]
    },
    {
     "data": {
      "application/vnd.jupyter.widget-view+json": {
       "model_id": "78ca70ccbab54feea3ebeed007a4e563",
       "version_major": 2,
       "version_minor": 0
      },
      "text/plain": [
       "HBox(children=(IntProgress(value=0, max=500), HTML(value='')))"
      ]
     },
     "metadata": {},
     "output_type": "display_data"
    },
    {
     "name": "stdout",
     "output_type": "stream",
     "text": [
      "1.4 0.264\n"
     ]
    },
    {
     "data": {
      "application/vnd.jupyter.widget-view+json": {
       "model_id": "44411ec1706c4db79b349866731f0bbf",
       "version_major": 2,
       "version_minor": 0
      },
      "text/plain": [
       "HBox(children=(IntProgress(value=0, max=500), HTML(value='')))"
      ]
     },
     "metadata": {},
     "output_type": "display_data"
    },
    {
     "name": "stdout",
     "output_type": "stream",
     "text": [
      "1.6 0.47\n"
     ]
    },
    {
     "data": {
      "application/vnd.jupyter.widget-view+json": {
       "model_id": "5a9feeceabda44558def3791c086a2ec",
       "version_major": 2,
       "version_minor": 0
      },
      "text/plain": [
       "HBox(children=(IntProgress(value=0, max=500), HTML(value='')))"
      ]
     },
     "metadata": {},
     "output_type": "display_data"
    },
    {
     "name": "stdout",
     "output_type": "stream",
     "text": [
      "1.8 0.632\n"
     ]
    },
    {
     "data": {
      "application/vnd.jupyter.widget-view+json": {
       "model_id": "6fea781a6dad4afeac7196420d37601a",
       "version_major": 2,
       "version_minor": 0
      },
      "text/plain": [
       "HBox(children=(IntProgress(value=0, max=500), HTML(value='')))"
      ]
     },
     "metadata": {},
     "output_type": "display_data"
    },
    {
     "name": "stdout",
     "output_type": "stream",
     "text": [
      "2.0 0.764\n"
     ]
    }
   ],
   "source": [
    "var_shift_powers = np.zeros(len(delta_arr))\n",
    "\n",
    "# Loop over delta values\n",
    "for i,delta in enumerate(tqdm(delta_arr)):\n",
    "    # Generate the data\n",
    "    X = variance_scalar_difference(M*n_tests,obs_grid,random_state = rng_X)\n",
    "    Y = variance_scalar_difference(N*n_tests,obs_grid,delta = delta,random_state = rng_Y)\n",
    "    \n",
    "    # For each of the different scenarios ID, FPCA, SQR, CEXP, POLY alter the code as follows:\n",
    "    # ID: Use K_ID in power_test\n",
    "    # FPCA: Use K_FPCA in power_test\n",
    "    # SQR: Use K_SQR in power_test\n",
    "    # COV: Use K_COV in power_test\n",
    "    # CEXP: Run the following lines before using K_ID in power_test, for given values of n_freqs and l\n",
    "#     n_freqs = 20\n",
    "#     l = np.sqrt(10)\n",
    "#     X = CEXP(X,n_freqs,l) \n",
    "#     Y = CEXP(Y,n_freqs,l) \n",
    "\n",
    "    \n",
    "    # Calculate and store power for this choice the delta\n",
    "    var_shift_powers[i] = power_test(X,Y,gamma,n_tests,n_perms,make_K = K_COV)\n",
    "    print(delta, var_shift_powers[i])"
   ]
  },
  {
   "cell_type": "code",
   "execution_count": 48,
   "metadata": {},
   "outputs": [
    {
     "data": {
      "text/plain": [
       "[<matplotlib.lines.Line2D at 0x135ad9cf8>]"
      ]
     },
     "execution_count": 48,
     "metadata": {},
     "output_type": "execute_result"
    },
    {
     "data": {
      "image/png": "[encoded data removed]",
      "text/plain": [
       "<Figure size 432x288 with 1 Axes>"
      ]
     },
     "metadata": {
      "needs_background": "light"
     },
     "output_type": "display_data"
    }
   ],
   "source": [
    "plt.plot(delta_arr,var_shift_powers)"
   ]
  },
  {
   "cell_type": "markdown",
   "metadata": {},
   "source": [
    "# Synthetic Higher Order Differences Data"
   ]
  },
  {
   "cell_type": "markdown",
   "metadata": {},
   "source": [
    "### Data is from Section 3.1 of \"Two-sample tests in functional data analysis starting from discrete data\" by Hall and Van Keilegom, Statistica Sinica 2007"
   ]
  },
  {
   "cell_type": "code",
   "execution_count": 32,
   "metadata": {},
   "outputs": [],
   "source": [
    "def higher_order_difference(n_samples,n_obs,delta = 1,sd = 0.1,uniform_samp = True,random_state = None):\n",
    "    \"\"\"\n",
    "    Higher order difference data is generated, including the random observation points sampling.\n",
    "    \n",
    "    Parameters:\n",
    "    n_samples - number of function samples to return\n",
    "    n_obs - number of observations per function sample \n",
    "    delta - the scalar which determines the deviation from the null\n",
    "    sd - standard deviation of observation noise\n",
    "    uniform_samp - Parameter to decide which random point sampling procedure to use for each function sample\n",
    "                     True is random uniform sampling on [0,1] \n",
    "                     False is random sampling using the density p(t) = 0.8 + 0.4*t on [0,1]\n",
    "    random_state - random seed\n",
    "    \n",
    "    Returns:\n",
    "    X - the generated random functions\n",
    "    obs_grid - observation point locations for each random function\n",
    "    \n",
    "    \"\"\"\n",
    "    rng = np.random.RandomState(random_state)\n",
    "    obs_grid = point_sample(n_samples,n_obs,uniform_samp=uniform_samp,random_state = random_state)\n",
    "    X = np.zeros((n_samples,n_obs))\n",
    "    for i,obs in enumerate(obs_grid):\n",
    "        rvs_1 = rng.normal(0,1,15)\n",
    "        rvs_2 = rng.normal(0,1,15)\n",
    "        X[i,:] = np.ones(n_obs)*(np.exp(-1/2)*rvs_1[0] + delta*rvs_2[0])\n",
    "        for k in range(2,16):\n",
    "            X[i,:] += np.exp(-k/2)*rvs_1[k-1]*np.sqrt(2)*np.sin((k-1)*np.pi*obs)\n",
    "            if k % 2 ==0:\n",
    "                X[i,:] += delta*(k**-2)*rvs_2[k-1]*np.sqrt(2)*np.cos((k-1)*np.pi*(2*obs - 1))\n",
    "            else:\n",
    "                X[i,:] += delta*(k**-2)*rvs_2[k-1]*np.sqrt(2)*np.sin((k-1)*np.pi*(2*obs - 1))\n",
    "        X[i,:] += rng.normal(0,sd,n_obs)\n",
    "    return X,obs_grid\n",
    "        \n",
    "\n",
    "def point_sample(n_samples,n_obs,uniform_samp = True,random_state = None):\n",
    "    \"\"\"\n",
    "    Random samples the observation points for each function sample\n",
    "    \n",
    "    Parameters:\n",
    "    n_samples - number of function samples\n",
    "    n_obs - number of observations per function sample\n",
    "    uniform_samp - Parameter to decide which random point sampling procedure to use for each function sample\n",
    "                     True is random uniform sampling on [0,1] \n",
    "                     False is random sampling using the density p(t) = 0.8 + 0.4*t on [0,1]\n",
    "    random_state - random seed\n",
    "    \n",
    "    Returns:\n",
    "    obs_points - observation point locations for each random function\n",
    "    \n",
    "    \"\"\"\n",
    "    rng = np.random.RandomState(random_state)\n",
    "    if n_samples > 1:\n",
    "        obs_grid = rng.uniform(0,1,(n_samples,n_obs))\n",
    "    else:\n",
    "        obs_grid = rng.uniform(0,1,n_samples).reshape(-1,1)\n",
    "    if uniform_samp:\n",
    "        obs_grid.sort(axis=1)\n",
    "        return obs_grid\n",
    "    else:\n",
    "        obs_grid = np.sqrt(4 + 5*obs_grid)-2\n",
    "        obs_grid.sort(axis=1)\n",
    "        return obs_grid"
   ]
  },
  {
   "cell_type": "markdown",
   "metadata": {},
   "source": [
    "### The next two cells are the code to fit curves (specifically Gaussian processes) to the observed functions and then obtain function values of the fitted curves from a regular grid of points. A Matern kernel is used "
   ]
  },
  {
   "cell_type": "code",
   "execution_count": 33,
   "metadata": {},
   "outputs": [],
   "source": [
    "def GP_regression_single_sample(X,obs_grid,pred_grid,nu = 1.5,alpha = 1):\n",
    "    \"\"\"\n",
    "    Given a single sample of functional data X at locations obs_grid, a GP is fit and predictions are\n",
    "    given at locations pred_grid\n",
    "    \n",
    "    X - single function sample\n",
    "    obs_grid - function sample observation locations\n",
    "    pred_grid - prediction locations\n",
    "    nu - Matern kernel smoothness parameter\n",
    "    alpha - smoothness penalty\n",
    "    \n",
    "    Returns:\n",
    "    The predictions of a Matern GP with parameters mu, alpha, at locations pred_grid\n",
    "    \"\"\"\n",
    "    kernel = gp.kernels.Matern(nu = nu)\n",
    "    GP = gp.GaussianProcessRegressor(kernel=kernel, n_restarts_optimizer=0, alpha=alpha,optimizer = None)\n",
    "    GP.fit(obs_grid, X)\n",
    "    return GP.predict(pred_grid)\n",
    "\n",
    "def GP_regression_multi_sample(X,obs_grid,pred_grid, nu = 1.5,alpha = 1):\n",
    "    \"\"\"\n",
    "    Given a multiple samples of functional data X, an array of corresponding observation locations obs_grid, \n",
    "    a GP is fit and predictions are given at locations pred_grid\n",
    "    \n",
    "    X - multiple function samples\n",
    "    obs_grid - function samples observation locations\n",
    "    pred_grid - prediction locations\n",
    "    nu - Matern kernel smoothness parameter\n",
    "    alpha - smoothness penalty\n",
    "    \n",
    "    Returns:\n",
    "    The predictions of a Matern GP with parameters mu, alpha, at locations pred_grid\n",
    "    \"\"\"\n",
    "    X_reg = np.zeros((X.shape[0],len(pred_grid)))\n",
    "    for j in range(X.shape[0]):\n",
    "        X_reg[j,:] = GP_regression_single_sample(X[j,:],obs_grid[j,:].reshape(-1,1),pred_grid,nu,alpha)\n",
    "    return X_reg"
   ]
  },
  {
   "cell_type": "code",
   "execution_count": 37,
   "metadata": {},
   "outputs": [],
   "source": [
    "# Set random seed\n",
    "rng_X = 1234\n",
    "rng_Y = 5678\n",
    "\n",
    "# Number of tests and permutations for the bootstrap per test\n",
    "n_tests = 500\n",
    "n_perms = 1000\n",
    "\n",
    "# Samples sizes for the two distributions\n",
    "M = 15\n",
    "N = 15\n",
    "\n",
    "# Range of parameters to test over\n",
    "delta_arr = np.array([0,1,2,3,4])\n",
    "\n",
    "# Number of observation locations of each sample\n",
    "n_obs = 20\n",
    "\n",
    "# Grid of prediction points when fitting curves\n",
    "n_preds = 100\n",
    "# reshape is used so the dimensions are correct for when fitting curves with a GP\n",
    "pred_grid = np.linspace(0,1,n_obs).reshape(-1,1)\n",
    "\n",
    "# Set bandwidth parameter, -1 causes median heuristic to be used\n",
    "gamma = -1"
   ]
  },
  {
   "cell_type": "code",
   "execution_count": 43,
   "metadata": {},
   "outputs": [
    {
     "data": {
      "application/vnd.jupyter.widget-view+json": {
       "model_id": "8bf7f9ad901148c49dd096469d57b252",
       "version_major": 2,
       "version_minor": 0
      },
      "text/plain": [
       "HBox(children=(IntProgress(value=0, max=5), HTML(value='')))"
      ]
     },
     "metadata": {},
     "output_type": "display_data"
    },
    {
     "data": {
      "application/vnd.jupyter.widget-view+json": {
       "model_id": "184a4a6a833d4715afc44ef93758f48a",
       "version_major": 2,
       "version_minor": 0
      },
      "text/plain": [
       "HBox(children=(IntProgress(value=0, max=500), HTML(value='')))"
      ]
     },
     "metadata": {},
     "output_type": "display_data"
    },
    {
     "name": "stdout",
     "output_type": "stream",
     "text": [
      "0 0.072\n"
     ]
    },
    {
     "data": {
      "application/vnd.jupyter.widget-view+json": {
       "model_id": "c8e5795002784d99a78253212a49e8ff",
       "version_major": 2,
       "version_minor": 0
      },
      "text/plain": [
       "HBox(children=(IntProgress(value=0, max=500), HTML(value='')))"
      ]
     },
     "metadata": {},
     "output_type": "display_data"
    },
    {
     "name": "stdout",
     "output_type": "stream",
     "text": [
      "1 0.474\n"
     ]
    },
    {
     "data": {
      "application/vnd.jupyter.widget-view+json": {
       "model_id": "1176b35d6fe9478b89c59d1b6cbbbcb0",
       "version_major": 2,
       "version_minor": 0
      },
      "text/plain": [
       "HBox(children=(IntProgress(value=0, max=500), HTML(value='')))"
      ]
     },
     "metadata": {},
     "output_type": "display_data"
    },
    {
     "name": "stdout",
     "output_type": "stream",
     "text": [
      "2 0.968\n"
     ]
    },
    {
     "data": {
      "application/vnd.jupyter.widget-view+json": {
       "model_id": "57557b07d5c24f00b59a82323ed7ea8c",
       "version_major": 2,
       "version_minor": 0
      },
      "text/plain": [
       "HBox(children=(IntProgress(value=0, max=500), HTML(value='')))"
      ]
     },
     "metadata": {},
     "output_type": "display_data"
    },
    {
     "name": "stdout",
     "output_type": "stream",
     "text": [
      "3 0.996\n"
     ]
    },
    {
     "data": {
      "application/vnd.jupyter.widget-view+json": {
       "model_id": "d5f244c0a55c46d49eba19c3a91eda36",
       "version_major": 2,
       "version_minor": 0
      },
      "text/plain": [
       "HBox(children=(IntProgress(value=0, max=500), HTML(value='')))"
      ]
     },
     "metadata": {},
     "output_type": "display_data"
    },
    {
     "name": "stdout",
     "output_type": "stream",
     "text": [
      "4 1.0\n"
     ]
    }
   ],
   "source": [
    "delta_powers = np.zeros(len(delta_arr))\n",
    "\n",
    "for i,delta in enumerate(tqdm(delta_arr)):\n",
    "    \n",
    "    X,obs_grid_X = higher_order_difference(M*n_tests,n_obs,delta = 0,sd = 0.1,uniform_samp=True,random_state = rng_X)\n",
    "    Y,obs_grid_Y = higher_order_difference(N*n_tests,n_obs,delta = delta,sd = 0.3,uniform_samp=False,random_state = rng_Y)\n",
    "    X = GP_regression_multi_sample(X,obs_grid_X,pred_grid,nu = 1.5,alpha = 0.001)\n",
    "    Y = GP_regression_multi_sample(Y,obs_grid_Y,pred_grid,nu = 1.5,alpha = 0.001)\n",
    "    \n",
    "    # For each of the different scenarios ID, FPCA, SQR, CEXP, POLY alter the code as follows:\n",
    "    # ID: Use K_ID in power_test\n",
    "    # FPCA: Use K_FPCA in power_test\n",
    "    # SQR: Use K_SQR in power_test\n",
    "    # COV: Use K_COV in power_test\n",
    "    # CEXP: Run the following lines before using K_ID in power_test, for given values of n_freqs and l\n",
    "#     n_freqs = 20\n",
    "#     l = np.sqrt(10)\n",
    "#     X = CEXP(X,n_freqs,l) \n",
    "#     Y = CEXP(Y,n_freqs,l) \n",
    "\n",
    "    \n",
    "    delta_powers[i] = power_test(X,Y,gamma,n_tests,n_perms,make_K = K_COV)\n",
    "    print(delta, delta_powers[i])"
   ]
  },
  {
   "cell_type": "code",
   "execution_count": 82,
   "metadata": {},
   "outputs": [
    {
     "data": {
      "text/plain": [
       "[<matplotlib.lines.Line2D at 0x1310290f0>]"
      ]
     },
     "execution_count": 82,
     "metadata": {},
     "output_type": "execute_result"
    },
    {
     "data": {
      "image/png": "[encoded data removed]",
      "text/plain": [
       "<Figure size 432x288 with 1 Axes>"
      ]
     },
     "metadata": {
      "needs_background": "light"
     },
     "output_type": "display_data"
    }
   ],
   "source": [
    "plt.plot(delta_arr,delta_powers)"
   ]
  }
 ],
 "metadata": {
  "kernelspec": {
   "display_name": "Python 3",
   "language": "python",
   "name": "python3"
  },
  "language_info": {
   "codemirror_mode": {
    "name": "ipython",
    "version": 3
   },
   "file_extension": ".py",
   "mimetype": "text/x-python",
   "name": "python",
   "nbconvert_exporter": "python",
   "pygments_lexer": "ipython3",
   "version": "3.7.1"
  }
 },
 "nbformat": 4,
 "nbformat_minor": 4
}
